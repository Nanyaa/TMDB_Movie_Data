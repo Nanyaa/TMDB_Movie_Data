{
 "cells": [
  {
   "cell_type": "markdown",
   "id": "ee1b426e",
   "metadata": {},
   "source": [
    "## TMBD MOVIE DATA\n",
    "\n",
    "An analysis of 10,000 movies collected from the movie database. I'll begin by exploring the dataset; from the exploration, I'll then determine questions that I wish to answer. First, I'll download the data to my local system. Next step is to explore it. I'll begin by looking through the available fields/columns to get an understanding of the data and a sense of questions I could answer.\n",
    "\n",
    "Everyone watches movies; for most people, it serves as a form of entertainment and relaxation. By exploring this dataset, I'll like to get an insight into the types of movies people like and the cotributing factors."
   ]
  },
  {
   "cell_type": "code",
   "execution_count": 1,
   "id": "752caf6b",
   "metadata": {},
   "outputs": [
    {
     "data": {
      "text/html": [
       "<div>\n",
       "<style scoped>\n",
       "    .dataframe tbody tr th:only-of-type {\n",
       "        vertical-align: middle;\n",
       "    }\n",
       "\n",
       "    .dataframe tbody tr th {\n",
       "        vertical-align: top;\n",
       "    }\n",
       "\n",
       "    .dataframe thead th {\n",
       "        text-align: right;\n",
       "    }\n",
       "</style>\n",
       "<table border=\"1\" class=\"dataframe\">\n",
       "  <thead>\n",
       "    <tr style=\"text-align: right;\">\n",
       "      <th></th>\n",
       "      <th>id</th>\n",
       "      <th>imdb_id</th>\n",
       "      <th>popularity</th>\n",
       "      <th>budget</th>\n",
       "      <th>revenue</th>\n",
       "      <th>original_title</th>\n",
       "      <th>cast</th>\n",
       "      <th>homepage</th>\n",
       "      <th>director</th>\n",
       "      <th>tagline</th>\n",
       "      <th>...</th>\n",
       "      <th>overview</th>\n",
       "      <th>runtime</th>\n",
       "      <th>genres</th>\n",
       "      <th>production_companies</th>\n",
       "      <th>release_date</th>\n",
       "      <th>vote_count</th>\n",
       "      <th>vote_average</th>\n",
       "      <th>release_year</th>\n",
       "      <th>budget_adj</th>\n",
       "      <th>revenue_adj</th>\n",
       "    </tr>\n",
       "  </thead>\n",
       "  <tbody>\n",
       "    <tr>\n",
       "      <th>0</th>\n",
       "      <td>135397</td>\n",
       "      <td>tt0369610</td>\n",
       "      <td>32.985763</td>\n",
       "      <td>150000000</td>\n",
       "      <td>1513528810</td>\n",
       "      <td>Jurassic World</td>\n",
       "      <td>Chris Pratt|Bryce Dallas Howard|Irrfan Khan|Vi...</td>\n",
       "      <td>http://www.jurassicworld.com/</td>\n",
       "      <td>Colin Trevorrow</td>\n",
       "      <td>The park is open.</td>\n",
       "      <td>...</td>\n",
       "      <td>Twenty-two years after the events of Jurassic ...</td>\n",
       "      <td>124</td>\n",
       "      <td>Action|Adventure|Science Fiction|Thriller</td>\n",
       "      <td>Universal Studios|Amblin Entertainment|Legenda...</td>\n",
       "      <td>6/9/15</td>\n",
       "      <td>5562</td>\n",
       "      <td>6.5</td>\n",
       "      <td>2015</td>\n",
       "      <td>1.379999e+08</td>\n",
       "      <td>1.392446e+09</td>\n",
       "    </tr>\n",
       "    <tr>\n",
       "      <th>1</th>\n",
       "      <td>76341</td>\n",
       "      <td>tt1392190</td>\n",
       "      <td>28.419936</td>\n",
       "      <td>150000000</td>\n",
       "      <td>378436354</td>\n",
       "      <td>Mad Max: Fury Road</td>\n",
       "      <td>Tom Hardy|Charlize Theron|Hugh Keays-Byrne|Nic...</td>\n",
       "      <td>http://www.madmaxmovie.com/</td>\n",
       "      <td>George Miller</td>\n",
       "      <td>What a Lovely Day.</td>\n",
       "      <td>...</td>\n",
       "      <td>An apocalyptic story set in the furthest reach...</td>\n",
       "      <td>120</td>\n",
       "      <td>Action|Adventure|Science Fiction|Thriller</td>\n",
       "      <td>Village Roadshow Pictures|Kennedy Miller Produ...</td>\n",
       "      <td>5/13/15</td>\n",
       "      <td>6185</td>\n",
       "      <td>7.1</td>\n",
       "      <td>2015</td>\n",
       "      <td>1.379999e+08</td>\n",
       "      <td>3.481613e+08</td>\n",
       "    </tr>\n",
       "    <tr>\n",
       "      <th>2</th>\n",
       "      <td>262500</td>\n",
       "      <td>tt2908446</td>\n",
       "      <td>13.112507</td>\n",
       "      <td>110000000</td>\n",
       "      <td>295238201</td>\n",
       "      <td>Insurgent</td>\n",
       "      <td>Shailene Woodley|Theo James|Kate Winslet|Ansel...</td>\n",
       "      <td>http://www.thedivergentseries.movie/#insurgent</td>\n",
       "      <td>Robert Schwentke</td>\n",
       "      <td>One Choice Can Destroy You</td>\n",
       "      <td>...</td>\n",
       "      <td>Beatrice Prior must confront her inner demons ...</td>\n",
       "      <td>119</td>\n",
       "      <td>Adventure|Science Fiction|Thriller</td>\n",
       "      <td>Summit Entertainment|Mandeville Films|Red Wago...</td>\n",
       "      <td>3/18/15</td>\n",
       "      <td>2480</td>\n",
       "      <td>6.3</td>\n",
       "      <td>2015</td>\n",
       "      <td>1.012000e+08</td>\n",
       "      <td>2.716190e+08</td>\n",
       "    </tr>\n",
       "    <tr>\n",
       "      <th>3</th>\n",
       "      <td>140607</td>\n",
       "      <td>tt2488496</td>\n",
       "      <td>11.173104</td>\n",
       "      <td>200000000</td>\n",
       "      <td>2068178225</td>\n",
       "      <td>Star Wars: The Force Awakens</td>\n",
       "      <td>Harrison Ford|Mark Hamill|Carrie Fisher|Adam D...</td>\n",
       "      <td>http://www.starwars.com/films/star-wars-episod...</td>\n",
       "      <td>J.J. Abrams</td>\n",
       "      <td>Every generation has a story.</td>\n",
       "      <td>...</td>\n",
       "      <td>Thirty years after defeating the Galactic Empi...</td>\n",
       "      <td>136</td>\n",
       "      <td>Action|Adventure|Science Fiction|Fantasy</td>\n",
       "      <td>Lucasfilm|Truenorth Productions|Bad Robot</td>\n",
       "      <td>12/15/15</td>\n",
       "      <td>5292</td>\n",
       "      <td>7.5</td>\n",
       "      <td>2015</td>\n",
       "      <td>1.839999e+08</td>\n",
       "      <td>1.902723e+09</td>\n",
       "    </tr>\n",
       "    <tr>\n",
       "      <th>4</th>\n",
       "      <td>168259</td>\n",
       "      <td>tt2820852</td>\n",
       "      <td>9.335014</td>\n",
       "      <td>190000000</td>\n",
       "      <td>1506249360</td>\n",
       "      <td>Furious 7</td>\n",
       "      <td>Vin Diesel|Paul Walker|Jason Statham|Michelle ...</td>\n",
       "      <td>http://www.furious7.com/</td>\n",
       "      <td>James Wan</td>\n",
       "      <td>Vengeance Hits Home</td>\n",
       "      <td>...</td>\n",
       "      <td>Deckard Shaw seeks revenge against Dominic Tor...</td>\n",
       "      <td>137</td>\n",
       "      <td>Action|Crime|Thriller</td>\n",
       "      <td>Universal Pictures|Original Film|Media Rights ...</td>\n",
       "      <td>4/1/15</td>\n",
       "      <td>2947</td>\n",
       "      <td>7.3</td>\n",
       "      <td>2015</td>\n",
       "      <td>1.747999e+08</td>\n",
       "      <td>1.385749e+09</td>\n",
       "    </tr>\n",
       "  </tbody>\n",
       "</table>\n",
       "<p>5 rows × 21 columns</p>\n",
       "</div>"
      ],
      "text/plain": [
       "       id    imdb_id  popularity     budget     revenue  \\\n",
       "0  135397  tt0369610   32.985763  150000000  1513528810   \n",
       "1   76341  tt1392190   28.419936  150000000   378436354   \n",
       "2  262500  tt2908446   13.112507  110000000   295238201   \n",
       "3  140607  tt2488496   11.173104  200000000  2068178225   \n",
       "4  168259  tt2820852    9.335014  190000000  1506249360   \n",
       "\n",
       "                 original_title  \\\n",
       "0                Jurassic World   \n",
       "1            Mad Max: Fury Road   \n",
       "2                     Insurgent   \n",
       "3  Star Wars: The Force Awakens   \n",
       "4                     Furious 7   \n",
       "\n",
       "                                                cast  \\\n",
       "0  Chris Pratt|Bryce Dallas Howard|Irrfan Khan|Vi...   \n",
       "1  Tom Hardy|Charlize Theron|Hugh Keays-Byrne|Nic...   \n",
       "2  Shailene Woodley|Theo James|Kate Winslet|Ansel...   \n",
       "3  Harrison Ford|Mark Hamill|Carrie Fisher|Adam D...   \n",
       "4  Vin Diesel|Paul Walker|Jason Statham|Michelle ...   \n",
       "\n",
       "                                            homepage          director  \\\n",
       "0                      http://www.jurassicworld.com/   Colin Trevorrow   \n",
       "1                        http://www.madmaxmovie.com/     George Miller   \n",
       "2     http://www.thedivergentseries.movie/#insurgent  Robert Schwentke   \n",
       "3  http://www.starwars.com/films/star-wars-episod...       J.J. Abrams   \n",
       "4                           http://www.furious7.com/         James Wan   \n",
       "\n",
       "                         tagline  ...  \\\n",
       "0              The park is open.  ...   \n",
       "1             What a Lovely Day.  ...   \n",
       "2     One Choice Can Destroy You  ...   \n",
       "3  Every generation has a story.  ...   \n",
       "4            Vengeance Hits Home  ...   \n",
       "\n",
       "                                            overview runtime  \\\n",
       "0  Twenty-two years after the events of Jurassic ...     124   \n",
       "1  An apocalyptic story set in the furthest reach...     120   \n",
       "2  Beatrice Prior must confront her inner demons ...     119   \n",
       "3  Thirty years after defeating the Galactic Empi...     136   \n",
       "4  Deckard Shaw seeks revenge against Dominic Tor...     137   \n",
       "\n",
       "                                      genres  \\\n",
       "0  Action|Adventure|Science Fiction|Thriller   \n",
       "1  Action|Adventure|Science Fiction|Thriller   \n",
       "2         Adventure|Science Fiction|Thriller   \n",
       "3   Action|Adventure|Science Fiction|Fantasy   \n",
       "4                      Action|Crime|Thriller   \n",
       "\n",
       "                                production_companies release_date vote_count  \\\n",
       "0  Universal Studios|Amblin Entertainment|Legenda...       6/9/15       5562   \n",
       "1  Village Roadshow Pictures|Kennedy Miller Produ...      5/13/15       6185   \n",
       "2  Summit Entertainment|Mandeville Films|Red Wago...      3/18/15       2480   \n",
       "3          Lucasfilm|Truenorth Productions|Bad Robot     12/15/15       5292   \n",
       "4  Universal Pictures|Original Film|Media Rights ...       4/1/15       2947   \n",
       "\n",
       "   vote_average  release_year    budget_adj   revenue_adj  \n",
       "0           6.5          2015  1.379999e+08  1.392446e+09  \n",
       "1           7.1          2015  1.379999e+08  3.481613e+08  \n",
       "2           6.3          2015  1.012000e+08  2.716190e+08  \n",
       "3           7.5          2015  1.839999e+08  1.902723e+09  \n",
       "4           7.3          2015  1.747999e+08  1.385749e+09  \n",
       "\n",
       "[5 rows x 21 columns]"
      ]
     },
     "execution_count": 1,
     "metadata": {},
     "output_type": "execute_result"
    }
   ],
   "source": [
    "# import necessary packages: pandas, numpy, matplotlib, seaborn\n",
    "# Then explore data to get an understanding of the data\n",
    "import pandas as pd\n",
    "import numpy as np\n",
    "from matplotlib import pyplot as plt\n",
    "import seaborn as sns\n",
    "%matplotlib inline\n",
    "\n",
    "df_movies = pd.read_csv('/Users/ifunanya/Downloads/tmdb-movies.csv')\n",
    "df_movies.head()"
   ]
  },
  {
   "cell_type": "markdown",
   "id": "51396410",
   "metadata": {},
   "source": [
    "The dataset has 21 columns which are explained briefly below:\n",
    "\n",
    "| COLUMN NAME |\tDESCRIPTION |\n",
    "| --- | --- |\n",
    "| Id |\tThe ID of the movie |\n",
    "| Imdb_id |\tThe IMDB ID of the movie\n",
    "| Popularity |\tPopularity score of the movie assigned by TMDB |\n",
    "| Budget |\tMovie budget in dollars |\n",
    "| Revenue |\tRevenue budget in dollars |\n",
    "| Original_title |\tOriginal title of the movie |\n",
    "| Cast |\tActors and actresses associated with the movie |\n",
    "| Homepage |\tOfficial homepage of the movie |\n",
    "| Director |\tMovie director |\n",
    "| Tagline |\tTagline other than the title |\n",
    "| Overview |\tBrief breakdown of the movie |\n",
    "| Runtime |\tLength/duration of the movie |\n",
    "| Genres |\tList of genres associated with the movie |\n",
    "| Production_companies |\tProduction companies associated with the making of the movie |\n",
    "| Release_date |\tRelease date of the movie |\n",
    "| Vote_count |\tNumber of individuals who voted |\n",
    "| Vote_average |\tAverage rating of the movie |\n",
    "| Release_year |\tYear of release |\n",
    "| Budget_adj |\tMovie budget adjusted |\n",
    "| Revenue_adj |\tRevenue budget adjusted |\n",
    "\t\n"
   ]
  },
  {
   "cell_type": "markdown",
   "id": "6c54e160",
   "metadata": {},
   "source": [
    "### Questions to answer:\n",
    "\n",
    "1. Which movies are the most popular/receive the highest rating? (Top 10)\n",
    "2. Which genres of movies generate the highest revenue?\n",
    "3. Which of the casts is associated with high revenue movies? (More than 2 high revenue movies)\n",
    "4. How many movies has a cast been associated with?\n",
    "5. Does runtime affect movie rating?\n",
    "6. Are rating and revenue related i.e are high revenue movies highly rated?\n",
    "7. Which directors are associated with high revenue movies?\n",
    "8. Is rating/popularity affected by vote count?\n",
    "9. How many movies were profitable i.e revenue exceeded budget?\n",
    "10.Profitability of movies over the years\n",
    "11.Revenue of movies over the years"
   ]
  },
  {
   "cell_type": "code",
   "execution_count": 2,
   "id": "13604d22",
   "metadata": {},
   "outputs": [
    {
     "data": {
      "text/plain": [
       "(10866, 21)"
      ]
     },
     "execution_count": 2,
     "metadata": {},
     "output_type": "execute_result"
    }
   ],
   "source": [
    "df_movies.shape"
   ]
  },
  {
   "cell_type": "markdown",
   "id": "33cff5f5",
   "metadata": {},
   "source": [
    "The dataset contains 10,866 rows and 21 columns. Next, we'll get more information on the dataset."
   ]
  },
  {
   "cell_type": "code",
   "execution_count": 3,
   "id": "4a6d49a1",
   "metadata": {},
   "outputs": [
    {
     "name": "stdout",
     "output_type": "stream",
     "text": [
      "<class 'pandas.core.frame.DataFrame'>\n",
      "RangeIndex: 10866 entries, 0 to 10865\n",
      "Data columns (total 21 columns):\n",
      " #   Column                Non-Null Count  Dtype  \n",
      "---  ------                --------------  -----  \n",
      " 0   id                    10866 non-null  int64  \n",
      " 1   imdb_id               10856 non-null  object \n",
      " 2   popularity            10866 non-null  float64\n",
      " 3   budget                10866 non-null  int64  \n",
      " 4   revenue               10866 non-null  int64  \n",
      " 5   original_title        10866 non-null  object \n",
      " 6   cast                  10790 non-null  object \n",
      " 7   homepage              2936 non-null   object \n",
      " 8   director              10822 non-null  object \n",
      " 9   tagline               8042 non-null   object \n",
      " 10  keywords              9373 non-null   object \n",
      " 11  overview              10862 non-null  object \n",
      " 12  runtime               10866 non-null  int64  \n",
      " 13  genres                10843 non-null  object \n",
      " 14  production_companies  9836 non-null   object \n",
      " 15  release_date          10866 non-null  object \n",
      " 16  vote_count            10866 non-null  int64  \n",
      " 17  vote_average          10866 non-null  float64\n",
      " 18  release_year          10866 non-null  int64  \n",
      " 19  budget_adj            10866 non-null  float64\n",
      " 20  revenue_adj           10866 non-null  float64\n",
      "dtypes: float64(4), int64(6), object(11)\n",
      "memory usage: 1.7+ MB\n"
     ]
    }
   ],
   "source": [
    "df_movies.info()"
   ]
  },
  {
   "cell_type": "markdown",
   "id": "0b11bfdb",
   "metadata": {},
   "source": [
    "All datatypes are fitting for their respective columns. However, we observe null values in homepage, cast, director, tagline, keyword, overview, genres, production companies. "
   ]
  },
  {
   "cell_type": "code",
   "execution_count": 4,
   "id": "815dd720",
   "metadata": {},
   "outputs": [
    {
     "data": {
      "text/html": [
       "<div>\n",
       "<style scoped>\n",
       "    .dataframe tbody tr th:only-of-type {\n",
       "        vertical-align: middle;\n",
       "    }\n",
       "\n",
       "    .dataframe tbody tr th {\n",
       "        vertical-align: top;\n",
       "    }\n",
       "\n",
       "    .dataframe thead th {\n",
       "        text-align: right;\n",
       "    }\n",
       "</style>\n",
       "<table border=\"1\" class=\"dataframe\">\n",
       "  <thead>\n",
       "    <tr style=\"text-align: right;\">\n",
       "      <th></th>\n",
       "      <th>id</th>\n",
       "      <th>popularity</th>\n",
       "      <th>budget</th>\n",
       "      <th>revenue</th>\n",
       "      <th>runtime</th>\n",
       "      <th>vote_count</th>\n",
       "      <th>vote_average</th>\n",
       "      <th>release_year</th>\n",
       "      <th>budget_adj</th>\n",
       "      <th>revenue_adj</th>\n",
       "    </tr>\n",
       "  </thead>\n",
       "  <tbody>\n",
       "    <tr>\n",
       "      <th>count</th>\n",
       "      <td>10866.000000</td>\n",
       "      <td>10866.000000</td>\n",
       "      <td>1.086600e+04</td>\n",
       "      <td>1.086600e+04</td>\n",
       "      <td>10866.000000</td>\n",
       "      <td>10866.000000</td>\n",
       "      <td>10866.000000</td>\n",
       "      <td>10866.000000</td>\n",
       "      <td>1.086600e+04</td>\n",
       "      <td>1.086600e+04</td>\n",
       "    </tr>\n",
       "    <tr>\n",
       "      <th>mean</th>\n",
       "      <td>66064.177434</td>\n",
       "      <td>0.646441</td>\n",
       "      <td>1.462570e+07</td>\n",
       "      <td>3.982332e+07</td>\n",
       "      <td>102.070863</td>\n",
       "      <td>217.389748</td>\n",
       "      <td>5.974922</td>\n",
       "      <td>2001.322658</td>\n",
       "      <td>1.755104e+07</td>\n",
       "      <td>5.136436e+07</td>\n",
       "    </tr>\n",
       "    <tr>\n",
       "      <th>std</th>\n",
       "      <td>92130.136561</td>\n",
       "      <td>1.000185</td>\n",
       "      <td>3.091321e+07</td>\n",
       "      <td>1.170035e+08</td>\n",
       "      <td>31.381405</td>\n",
       "      <td>575.619058</td>\n",
       "      <td>0.935142</td>\n",
       "      <td>12.812941</td>\n",
       "      <td>3.430616e+07</td>\n",
       "      <td>1.446325e+08</td>\n",
       "    </tr>\n",
       "    <tr>\n",
       "      <th>min</th>\n",
       "      <td>5.000000</td>\n",
       "      <td>0.000065</td>\n",
       "      <td>0.000000e+00</td>\n",
       "      <td>0.000000e+00</td>\n",
       "      <td>0.000000</td>\n",
       "      <td>10.000000</td>\n",
       "      <td>1.500000</td>\n",
       "      <td>1960.000000</td>\n",
       "      <td>0.000000e+00</td>\n",
       "      <td>0.000000e+00</td>\n",
       "    </tr>\n",
       "    <tr>\n",
       "      <th>25%</th>\n",
       "      <td>10596.250000</td>\n",
       "      <td>0.207583</td>\n",
       "      <td>0.000000e+00</td>\n",
       "      <td>0.000000e+00</td>\n",
       "      <td>90.000000</td>\n",
       "      <td>17.000000</td>\n",
       "      <td>5.400000</td>\n",
       "      <td>1995.000000</td>\n",
       "      <td>0.000000e+00</td>\n",
       "      <td>0.000000e+00</td>\n",
       "    </tr>\n",
       "    <tr>\n",
       "      <th>50%</th>\n",
       "      <td>20669.000000</td>\n",
       "      <td>0.383856</td>\n",
       "      <td>0.000000e+00</td>\n",
       "      <td>0.000000e+00</td>\n",
       "      <td>99.000000</td>\n",
       "      <td>38.000000</td>\n",
       "      <td>6.000000</td>\n",
       "      <td>2006.000000</td>\n",
       "      <td>0.000000e+00</td>\n",
       "      <td>0.000000e+00</td>\n",
       "    </tr>\n",
       "    <tr>\n",
       "      <th>75%</th>\n",
       "      <td>75610.000000</td>\n",
       "      <td>0.713817</td>\n",
       "      <td>1.500000e+07</td>\n",
       "      <td>2.400000e+07</td>\n",
       "      <td>111.000000</td>\n",
       "      <td>145.750000</td>\n",
       "      <td>6.600000</td>\n",
       "      <td>2011.000000</td>\n",
       "      <td>2.085325e+07</td>\n",
       "      <td>3.369710e+07</td>\n",
       "    </tr>\n",
       "    <tr>\n",
       "      <th>max</th>\n",
       "      <td>417859.000000</td>\n",
       "      <td>32.985763</td>\n",
       "      <td>4.250000e+08</td>\n",
       "      <td>2.781506e+09</td>\n",
       "      <td>900.000000</td>\n",
       "      <td>9767.000000</td>\n",
       "      <td>9.200000</td>\n",
       "      <td>2015.000000</td>\n",
       "      <td>4.250000e+08</td>\n",
       "      <td>2.827124e+09</td>\n",
       "    </tr>\n",
       "  </tbody>\n",
       "</table>\n",
       "</div>"
      ],
      "text/plain": [
       "                  id    popularity        budget       revenue       runtime  \\\n",
       "count   10866.000000  10866.000000  1.086600e+04  1.086600e+04  10866.000000   \n",
       "mean    66064.177434      0.646441  1.462570e+07  3.982332e+07    102.070863   \n",
       "std     92130.136561      1.000185  3.091321e+07  1.170035e+08     31.381405   \n",
       "min         5.000000      0.000065  0.000000e+00  0.000000e+00      0.000000   \n",
       "25%     10596.250000      0.207583  0.000000e+00  0.000000e+00     90.000000   \n",
       "50%     20669.000000      0.383856  0.000000e+00  0.000000e+00     99.000000   \n",
       "75%     75610.000000      0.713817  1.500000e+07  2.400000e+07    111.000000   \n",
       "max    417859.000000     32.985763  4.250000e+08  2.781506e+09    900.000000   \n",
       "\n",
       "         vote_count  vote_average  release_year    budget_adj   revenue_adj  \n",
       "count  10866.000000  10866.000000  10866.000000  1.086600e+04  1.086600e+04  \n",
       "mean     217.389748      5.974922   2001.322658  1.755104e+07  5.136436e+07  \n",
       "std      575.619058      0.935142     12.812941  3.430616e+07  1.446325e+08  \n",
       "min       10.000000      1.500000   1960.000000  0.000000e+00  0.000000e+00  \n",
       "25%       17.000000      5.400000   1995.000000  0.000000e+00  0.000000e+00  \n",
       "50%       38.000000      6.000000   2006.000000  0.000000e+00  0.000000e+00  \n",
       "75%      145.750000      6.600000   2011.000000  2.085325e+07  3.369710e+07  \n",
       "max     9767.000000      9.200000   2015.000000  4.250000e+08  2.827124e+09  "
      ]
     },
     "execution_count": 4,
     "metadata": {},
     "output_type": "execute_result"
    }
   ],
   "source": [
    "df_movies.describe()"
   ]
  },
  {
   "cell_type": "markdown",
   "id": "4fd457d0",
   "metadata": {},
   "source": [
    "Using the describe method, we can infer that vote_average(rating) falls between the values 1 and 10. From the info displayed, some columns contain null values. Columns with null values that are not relevant to the analysis will be dropped. \n",
    "\n",
    "I'll begin by copying the dataset."
   ]
  },
  {
   "cell_type": "code",
   "execution_count": 5,
   "id": "dac03248",
   "metadata": {},
   "outputs": [],
   "source": [
    "df_movies_tmdb = df_movies.copy()"
   ]
  },
  {
   "cell_type": "markdown",
   "id": "fe662ab0",
   "metadata": {},
   "source": [
    "### Data Cleaning"
   ]
  },
  {
   "cell_type": "code",
   "execution_count": 6,
   "id": "2c191c81",
   "metadata": {},
   "outputs": [],
   "source": [
    "cols_to_drop = ['imdb_id', 'homepage', 'tagline', 'keywords', 'overview', 'release_date', 'revenue', 'budget']\n",
    "df_movies_tmdb.drop(cols_to_drop, axis = 1, inplace = True)"
   ]
  },
  {
   "cell_type": "code",
   "execution_count": 7,
   "id": "d2a153ed",
   "metadata": {},
   "outputs": [
    {
     "data": {
      "text/html": [
       "<div>\n",
       "<style scoped>\n",
       "    .dataframe tbody tr th:only-of-type {\n",
       "        vertical-align: middle;\n",
       "    }\n",
       "\n",
       "    .dataframe tbody tr th {\n",
       "        vertical-align: top;\n",
       "    }\n",
       "\n",
       "    .dataframe thead th {\n",
       "        text-align: right;\n",
       "    }\n",
       "</style>\n",
       "<table border=\"1\" class=\"dataframe\">\n",
       "  <thead>\n",
       "    <tr style=\"text-align: right;\">\n",
       "      <th></th>\n",
       "      <th>id</th>\n",
       "      <th>popularity</th>\n",
       "      <th>original_title</th>\n",
       "      <th>cast</th>\n",
       "      <th>director</th>\n",
       "      <th>runtime</th>\n",
       "      <th>genres</th>\n",
       "      <th>production_companies</th>\n",
       "      <th>vote_count</th>\n",
       "      <th>vote_average</th>\n",
       "      <th>release_year</th>\n",
       "      <th>budget_adj</th>\n",
       "      <th>revenue_adj</th>\n",
       "    </tr>\n",
       "  </thead>\n",
       "  <tbody>\n",
       "    <tr>\n",
       "      <th>4533</th>\n",
       "      <td>70667</td>\n",
       "      <td>0.568529</td>\n",
       "      <td>Kon-Tiki</td>\n",
       "      <td>PÃ¥l Sverre Valheim Hagen|Anders Baasmo Christ...</td>\n",
       "      <td>Joachim RÃ¸nning|Espen Sandberg</td>\n",
       "      <td>118</td>\n",
       "      <td>Adventure|History</td>\n",
       "      <td>Film i VÃ¤st|Recorded Picture Company (RPC)|Ro...</td>\n",
       "      <td>189</td>\n",
       "      <td>6.9</td>\n",
       "      <td>2012</td>\n",
       "      <td>1.576576e+07</td>\n",
       "      <td>0.000000e+00</td>\n",
       "    </tr>\n",
       "    <tr>\n",
       "      <th>8428</th>\n",
       "      <td>31593</td>\n",
       "      <td>0.136609</td>\n",
       "      <td>Cutter's Way</td>\n",
       "      <td>Jeff Bridges|John Heard|Lisa Eichhorn|Ann Duse...</td>\n",
       "      <td>Ivan Passer</td>\n",
       "      <td>105</td>\n",
       "      <td>Drama|Mystery|Thriller|Crime</td>\n",
       "      <td>United Artists|Gurian Entertainment</td>\n",
       "      <td>12</td>\n",
       "      <td>5.5</td>\n",
       "      <td>1981</td>\n",
       "      <td>7.194572e+06</td>\n",
       "      <td>0.000000e+00</td>\n",
       "    </tr>\n",
       "    <tr>\n",
       "      <th>1642</th>\n",
       "      <td>291081</td>\n",
       "      <td>0.391927</td>\n",
       "      <td>Red Riding: In the Year of Our Lord 1974</td>\n",
       "      <td>Andrew Garfield|David Morrissey|John Henshaw|A...</td>\n",
       "      <td>Julian Jarrold</td>\n",
       "      <td>102</td>\n",
       "      <td>Thriller|Mystery|Crime|Drama</td>\n",
       "      <td>Revolution Films|Channel Four Films|Screen Yor...</td>\n",
       "      <td>12</td>\n",
       "      <td>6.1</td>\n",
       "      <td>2009</td>\n",
       "      <td>0.000000e+00</td>\n",
       "      <td>0.000000e+00</td>\n",
       "    </tr>\n",
       "    <tr>\n",
       "      <th>5287</th>\n",
       "      <td>10806</td>\n",
       "      <td>0.733859</td>\n",
       "      <td>In &amp; Out</td>\n",
       "      <td>Kevin Kline|Joan Cusack|Tom Selleck|Matt Dillo...</td>\n",
       "      <td>Frank Oz</td>\n",
       "      <td>90</td>\n",
       "      <td>Comedy|Romance</td>\n",
       "      <td>Paramount Pictures|Spelling Films</td>\n",
       "      <td>74</td>\n",
       "      <td>5.8</td>\n",
       "      <td>1997</td>\n",
       "      <td>4.754611e+07</td>\n",
       "      <td>0.000000e+00</td>\n",
       "    </tr>\n",
       "    <tr>\n",
       "      <th>1004</th>\n",
       "      <td>270654</td>\n",
       "      <td>0.318941</td>\n",
       "      <td>Parts Per Billion</td>\n",
       "      <td>Josh Hartnett|Teresa Palmer|Alexis Bledel|Rosa...</td>\n",
       "      <td>Brian Horiuchi</td>\n",
       "      <td>139</td>\n",
       "      <td>Science Fiction</td>\n",
       "      <td>Benaroya Pictures|XYZ Films|PalmStar Entertain...</td>\n",
       "      <td>14</td>\n",
       "      <td>4.8</td>\n",
       "      <td>2014</td>\n",
       "      <td>4.605455e+05</td>\n",
       "      <td>1.381637e+07</td>\n",
       "    </tr>\n",
       "    <tr>\n",
       "      <th>4215</th>\n",
       "      <td>15139</td>\n",
       "      <td>0.776380</td>\n",
       "      <td>The Pagemaster</td>\n",
       "      <td>Macaulay Culkin|Christopher Lloyd|Patrick Stew...</td>\n",
       "      <td>Pixote Hunt|Joe Johnston|Maurice Hunt</td>\n",
       "      <td>80</td>\n",
       "      <td>Fantasy|Science Fiction|Family|Animation</td>\n",
       "      <td>20th Century Fox|Turner Pictures</td>\n",
       "      <td>91</td>\n",
       "      <td>6.5</td>\n",
       "      <td>1994</td>\n",
       "      <td>3.972001e+07</td>\n",
       "      <td>2.011111e+07</td>\n",
       "    </tr>\n",
       "    <tr>\n",
       "      <th>6210</th>\n",
       "      <td>9335</td>\n",
       "      <td>1.699822</td>\n",
       "      <td>Transporter 2</td>\n",
       "      <td>Jason Statham|Amber Valletta|Kate Nauta|Alessa...</td>\n",
       "      <td>Louis Leterrier</td>\n",
       "      <td>87</td>\n",
       "      <td>Action|Thriller|Crime</td>\n",
       "      <td>Canal Plus|Twentieth Century Fox Film Corporat...</td>\n",
       "      <td>677</td>\n",
       "      <td>6.1</td>\n",
       "      <td>2005</td>\n",
       "      <td>3.573003e+07</td>\n",
       "      <td>9.509506e+07</td>\n",
       "    </tr>\n",
       "    <tr>\n",
       "      <th>472</th>\n",
       "      <td>293941</td>\n",
       "      <td>0.195324</td>\n",
       "      <td>The Quiet Hour</td>\n",
       "      <td>Dakota Blue Richards|Karl Davies|Jack McMullen...</td>\n",
       "      <td>StÃ©phanie Joalland</td>\n",
       "      <td>85</td>\n",
       "      <td>Drama|Science Fiction|Thriller</td>\n",
       "      <td>Vision Films|Frenzy Films</td>\n",
       "      <td>11</td>\n",
       "      <td>5.3</td>\n",
       "      <td>2015</td>\n",
       "      <td>0.000000e+00</td>\n",
       "      <td>0.000000e+00</td>\n",
       "    </tr>\n",
       "    <tr>\n",
       "      <th>7122</th>\n",
       "      <td>4599</td>\n",
       "      <td>0.424376</td>\n",
       "      <td>Raising Helen</td>\n",
       "      <td>Kate Hudson|John Corbett|Joan Cusack|Hayden Pa...</td>\n",
       "      <td>Garry Marshall</td>\n",
       "      <td>119</td>\n",
       "      <td>Drama|Comedy|Romance</td>\n",
       "      <td>Touchstone Pictures|Beacon Pictures|Mandeville...</td>\n",
       "      <td>111</td>\n",
       "      <td>5.9</td>\n",
       "      <td>2004</td>\n",
       "      <td>5.772227e+07</td>\n",
       "      <td>5.739742e+07</td>\n",
       "    </tr>\n",
       "    <tr>\n",
       "      <th>2522</th>\n",
       "      <td>11119</td>\n",
       "      <td>0.345172</td>\n",
       "      <td>Fortress 2</td>\n",
       "      <td>Christopher Lambert|Aidan Rea|David Roberson|L...</td>\n",
       "      <td>Geoff Murphy</td>\n",
       "      <td>92</td>\n",
       "      <td>Science Fiction|Action</td>\n",
       "      <td>Carousel Picture Company</td>\n",
       "      <td>17</td>\n",
       "      <td>3.8</td>\n",
       "      <td>1999</td>\n",
       "      <td>1.439958e+07</td>\n",
       "      <td>0.000000e+00</td>\n",
       "    </tr>\n",
       "    <tr>\n",
       "      <th>4631</th>\n",
       "      <td>118957</td>\n",
       "      <td>0.365381</td>\n",
       "      <td>Bait</td>\n",
       "      <td>Sharni Vinson|Phoebe Tonkin|Julian McMahon|Xav...</td>\n",
       "      <td>Kimble Rendall</td>\n",
       "      <td>93</td>\n",
       "      <td>Horror|Action|Thriller</td>\n",
       "      <td>Pictures in Paradise|Screen Australia|Media De...</td>\n",
       "      <td>99</td>\n",
       "      <td>5.2</td>\n",
       "      <td>2012</td>\n",
       "      <td>2.849233e+07</td>\n",
       "      <td>0.000000e+00</td>\n",
       "    </tr>\n",
       "    <tr>\n",
       "      <th>3161</th>\n",
       "      <td>16971</td>\n",
       "      <td>0.304742</td>\n",
       "      <td>The Meerkats</td>\n",
       "      <td>Paul Newman|Guillaume Canet</td>\n",
       "      <td>James Honeyborne</td>\n",
       "      <td>83</td>\n",
       "      <td>Documentary</td>\n",
       "      <td>BBC Films|The Weinstein Company</td>\n",
       "      <td>20</td>\n",
       "      <td>6.5</td>\n",
       "      <td>2008</td>\n",
       "      <td>0.000000e+00</td>\n",
       "      <td>0.000000e+00</td>\n",
       "    </tr>\n",
       "    <tr>\n",
       "      <th>6999</th>\n",
       "      <td>8699</td>\n",
       "      <td>1.527154</td>\n",
       "      <td>Anchorman: The Legend of Ron Burgundy</td>\n",
       "      <td>Will Ferrell|Christina Applegate|Paul Rudd|Dav...</td>\n",
       "      <td>Adam McKay</td>\n",
       "      <td>94</td>\n",
       "      <td>Comedy</td>\n",
       "      <td>Apatow Productions</td>\n",
       "      <td>1002</td>\n",
       "      <td>6.7</td>\n",
       "      <td>2004</td>\n",
       "      <td>3.001558e+07</td>\n",
       "      <td>1.045630e+08</td>\n",
       "    </tr>\n",
       "    <tr>\n",
       "      <th>32</th>\n",
       "      <td>254470</td>\n",
       "      <td>3.877764</td>\n",
       "      <td>Pitch Perfect 2</td>\n",
       "      <td>Anna Kendrick|Rebel Wilson|Hailee Steinfeld|Br...</td>\n",
       "      <td>Elizabeth Banks</td>\n",
       "      <td>115</td>\n",
       "      <td>Comedy|Music</td>\n",
       "      <td>Universal Pictures|Gold Circle Films|Brownston...</td>\n",
       "      <td>1264</td>\n",
       "      <td>6.8</td>\n",
       "      <td>2015</td>\n",
       "      <td>2.667999e+07</td>\n",
       "      <td>2.645056e+08</td>\n",
       "    </tr>\n",
       "    <tr>\n",
       "      <th>3425</th>\n",
       "      <td>52451</td>\n",
       "      <td>1.407986</td>\n",
       "      <td>The Three Musketeers</td>\n",
       "      <td>Milla Jovovich|Orlando Bloom|Logan Lerman|Ray ...</td>\n",
       "      <td>Paul W.S. Anderson</td>\n",
       "      <td>110</td>\n",
       "      <td>Adventure|Action|Thriller|Comedy</td>\n",
       "      <td>Impact Pictures|Studio Babelsberg|Nouvelles Ã‰...</td>\n",
       "      <td>589</td>\n",
       "      <td>5.5</td>\n",
       "      <td>2011</td>\n",
       "      <td>7.270485e+07</td>\n",
       "      <td>1.282266e+08</td>\n",
       "    </tr>\n",
       "    <tr>\n",
       "      <th>260</th>\n",
       "      <td>264337</td>\n",
       "      <td>0.475473</td>\n",
       "      <td>Spare Parts</td>\n",
       "      <td>Carlos PenaVega|George Lopez|Jamie Lee Curtis|...</td>\n",
       "      <td>Sean McNamara</td>\n",
       "      <td>83</td>\n",
       "      <td>Action|Drama|Family</td>\n",
       "      <td>Brookwell-McNamara Entertainment|Pantelion Fil...</td>\n",
       "      <td>38</td>\n",
       "      <td>6.6</td>\n",
       "      <td>2015</td>\n",
       "      <td>0.000000e+00</td>\n",
       "      <td>0.000000e+00</td>\n",
       "    </tr>\n",
       "    <tr>\n",
       "      <th>8192</th>\n",
       "      <td>11446</td>\n",
       "      <td>0.323966</td>\n",
       "      <td>Welcome to the Dollhouse</td>\n",
       "      <td>Heather Matarazzo|Victoria Davis|Christina Bru...</td>\n",
       "      <td>Todd Solondz</td>\n",
       "      <td>88</td>\n",
       "      <td>Comedy|Drama</td>\n",
       "      <td>NaN</td>\n",
       "      <td>34</td>\n",
       "      <td>5.9</td>\n",
       "      <td>1995</td>\n",
       "      <td>0.000000e+00</td>\n",
       "      <td>0.000000e+00</td>\n",
       "    </tr>\n",
       "    <tr>\n",
       "      <th>6417</th>\n",
       "      <td>14166</td>\n",
       "      <td>0.297727</td>\n",
       "      <td>Pretty Persuasion</td>\n",
       "      <td>Evan Rachel Wood|Selma Blair|David Wagner|Bren...</td>\n",
       "      <td>Marcos Siega</td>\n",
       "      <td>105</td>\n",
       "      <td>Comedy|Drama</td>\n",
       "      <td>REN-Mar Studios|Prospect Pictures</td>\n",
       "      <td>27</td>\n",
       "      <td>5.0</td>\n",
       "      <td>2005</td>\n",
       "      <td>0.000000e+00</td>\n",
       "      <td>0.000000e+00</td>\n",
       "    </tr>\n",
       "    <tr>\n",
       "      <th>9743</th>\n",
       "      <td>14794</td>\n",
       "      <td>0.106218</td>\n",
       "      <td>If....</td>\n",
       "      <td>Malcolm McDowell|Richard Warwick|David Wood|Ch...</td>\n",
       "      <td>Lindsay Anderson</td>\n",
       "      <td>111</td>\n",
       "      <td>Drama</td>\n",
       "      <td>Memorial Enterprises</td>\n",
       "      <td>29</td>\n",
       "      <td>6.0</td>\n",
       "      <td>1968</td>\n",
       "      <td>0.000000e+00</td>\n",
       "      <td>3.134482e+06</td>\n",
       "    </tr>\n",
       "    <tr>\n",
       "      <th>1682</th>\n",
       "      <td>16604</td>\n",
       "      <td>0.569186</td>\n",
       "      <td>Super Rhino</td>\n",
       "      <td>Miley Cyrus|Mark Walton|Susie Essman|Malcolm M...</td>\n",
       "      <td>Nathan Greno</td>\n",
       "      <td>5</td>\n",
       "      <td>Animation|Comedy</td>\n",
       "      <td>Walt Disney Pictures|Walt Disney Animation Stu...</td>\n",
       "      <td>11</td>\n",
       "      <td>6.0</td>\n",
       "      <td>2009</td>\n",
       "      <td>0.000000e+00</td>\n",
       "      <td>0.000000e+00</td>\n",
       "    </tr>\n",
       "  </tbody>\n",
       "</table>\n",
       "</div>"
      ],
      "text/plain": [
       "          id  popularity                            original_title  \\\n",
       "4533   70667    0.568529                                  Kon-Tiki   \n",
       "8428   31593    0.136609                              Cutter's Way   \n",
       "1642  291081    0.391927  Red Riding: In the Year of Our Lord 1974   \n",
       "5287   10806    0.733859                                  In & Out   \n",
       "1004  270654    0.318941                         Parts Per Billion   \n",
       "4215   15139    0.776380                            The Pagemaster   \n",
       "6210    9335    1.699822                             Transporter 2   \n",
       "472   293941    0.195324                            The Quiet Hour   \n",
       "7122    4599    0.424376                             Raising Helen   \n",
       "2522   11119    0.345172                                Fortress 2   \n",
       "4631  118957    0.365381                                      Bait   \n",
       "3161   16971    0.304742                              The Meerkats   \n",
       "6999    8699    1.527154     Anchorman: The Legend of Ron Burgundy   \n",
       "32    254470    3.877764                           Pitch Perfect 2   \n",
       "3425   52451    1.407986                      The Three Musketeers   \n",
       "260   264337    0.475473                               Spare Parts   \n",
       "8192   11446    0.323966                  Welcome to the Dollhouse   \n",
       "6417   14166    0.297727                         Pretty Persuasion   \n",
       "9743   14794    0.106218                                    If....   \n",
       "1682   16604    0.569186                               Super Rhino   \n",
       "\n",
       "                                                   cast  \\\n",
       "4533  PÃ¥l Sverre Valheim Hagen|Anders Baasmo Christ...   \n",
       "8428  Jeff Bridges|John Heard|Lisa Eichhorn|Ann Duse...   \n",
       "1642  Andrew Garfield|David Morrissey|John Henshaw|A...   \n",
       "5287  Kevin Kline|Joan Cusack|Tom Selleck|Matt Dillo...   \n",
       "1004  Josh Hartnett|Teresa Palmer|Alexis Bledel|Rosa...   \n",
       "4215  Macaulay Culkin|Christopher Lloyd|Patrick Stew...   \n",
       "6210  Jason Statham|Amber Valletta|Kate Nauta|Alessa...   \n",
       "472   Dakota Blue Richards|Karl Davies|Jack McMullen...   \n",
       "7122  Kate Hudson|John Corbett|Joan Cusack|Hayden Pa...   \n",
       "2522  Christopher Lambert|Aidan Rea|David Roberson|L...   \n",
       "4631  Sharni Vinson|Phoebe Tonkin|Julian McMahon|Xav...   \n",
       "3161                        Paul Newman|Guillaume Canet   \n",
       "6999  Will Ferrell|Christina Applegate|Paul Rudd|Dav...   \n",
       "32    Anna Kendrick|Rebel Wilson|Hailee Steinfeld|Br...   \n",
       "3425  Milla Jovovich|Orlando Bloom|Logan Lerman|Ray ...   \n",
       "260   Carlos PenaVega|George Lopez|Jamie Lee Curtis|...   \n",
       "8192  Heather Matarazzo|Victoria Davis|Christina Bru...   \n",
       "6417  Evan Rachel Wood|Selma Blair|David Wagner|Bren...   \n",
       "9743  Malcolm McDowell|Richard Warwick|David Wood|Ch...   \n",
       "1682  Miley Cyrus|Mark Walton|Susie Essman|Malcolm M...   \n",
       "\n",
       "                                   director  runtime  \\\n",
       "4533        Joachim RÃ¸nning|Espen Sandberg      118   \n",
       "8428                            Ivan Passer      105   \n",
       "1642                         Julian Jarrold      102   \n",
       "5287                               Frank Oz       90   \n",
       "1004                         Brian Horiuchi      139   \n",
       "4215  Pixote Hunt|Joe Johnston|Maurice Hunt       80   \n",
       "6210                        Louis Leterrier       87   \n",
       "472                     StÃ©phanie Joalland       85   \n",
       "7122                         Garry Marshall      119   \n",
       "2522                           Geoff Murphy       92   \n",
       "4631                         Kimble Rendall       93   \n",
       "3161                       James Honeyborne       83   \n",
       "6999                             Adam McKay       94   \n",
       "32                          Elizabeth Banks      115   \n",
       "3425                     Paul W.S. Anderson      110   \n",
       "260                           Sean McNamara       83   \n",
       "8192                           Todd Solondz       88   \n",
       "6417                           Marcos Siega      105   \n",
       "9743                       Lindsay Anderson      111   \n",
       "1682                           Nathan Greno        5   \n",
       "\n",
       "                                        genres  \\\n",
       "4533                         Adventure|History   \n",
       "8428              Drama|Mystery|Thriller|Crime   \n",
       "1642              Thriller|Mystery|Crime|Drama   \n",
       "5287                            Comedy|Romance   \n",
       "1004                           Science Fiction   \n",
       "4215  Fantasy|Science Fiction|Family|Animation   \n",
       "6210                     Action|Thriller|Crime   \n",
       "472             Drama|Science Fiction|Thriller   \n",
       "7122                      Drama|Comedy|Romance   \n",
       "2522                    Science Fiction|Action   \n",
       "4631                    Horror|Action|Thriller   \n",
       "3161                               Documentary   \n",
       "6999                                    Comedy   \n",
       "32                                Comedy|Music   \n",
       "3425          Adventure|Action|Thriller|Comedy   \n",
       "260                        Action|Drama|Family   \n",
       "8192                              Comedy|Drama   \n",
       "6417                              Comedy|Drama   \n",
       "9743                                     Drama   \n",
       "1682                          Animation|Comedy   \n",
       "\n",
       "                                   production_companies  vote_count  \\\n",
       "4533  Film i VÃ¤st|Recorded Picture Company (RPC)|Ro...         189   \n",
       "8428                United Artists|Gurian Entertainment          12   \n",
       "1642  Revolution Films|Channel Four Films|Screen Yor...          12   \n",
       "5287                  Paramount Pictures|Spelling Films          74   \n",
       "1004  Benaroya Pictures|XYZ Films|PalmStar Entertain...          14   \n",
       "4215                   20th Century Fox|Turner Pictures          91   \n",
       "6210  Canal Plus|Twentieth Century Fox Film Corporat...         677   \n",
       "472                           Vision Films|Frenzy Films          11   \n",
       "7122  Touchstone Pictures|Beacon Pictures|Mandeville...         111   \n",
       "2522                           Carousel Picture Company          17   \n",
       "4631  Pictures in Paradise|Screen Australia|Media De...          99   \n",
       "3161                    BBC Films|The Weinstein Company          20   \n",
       "6999                                 Apatow Productions        1002   \n",
       "32    Universal Pictures|Gold Circle Films|Brownston...        1264   \n",
       "3425  Impact Pictures|Studio Babelsberg|Nouvelles Ã‰...         589   \n",
       "260   Brookwell-McNamara Entertainment|Pantelion Fil...          38   \n",
       "8192                                                NaN          34   \n",
       "6417                  REN-Mar Studios|Prospect Pictures          27   \n",
       "9743                               Memorial Enterprises          29   \n",
       "1682  Walt Disney Pictures|Walt Disney Animation Stu...          11   \n",
       "\n",
       "      vote_average  release_year    budget_adj   revenue_adj  \n",
       "4533           6.9          2012  1.576576e+07  0.000000e+00  \n",
       "8428           5.5          1981  7.194572e+06  0.000000e+00  \n",
       "1642           6.1          2009  0.000000e+00  0.000000e+00  \n",
       "5287           5.8          1997  4.754611e+07  0.000000e+00  \n",
       "1004           4.8          2014  4.605455e+05  1.381637e+07  \n",
       "4215           6.5          1994  3.972001e+07  2.011111e+07  \n",
       "6210           6.1          2005  3.573003e+07  9.509506e+07  \n",
       "472            5.3          2015  0.000000e+00  0.000000e+00  \n",
       "7122           5.9          2004  5.772227e+07  5.739742e+07  \n",
       "2522           3.8          1999  1.439958e+07  0.000000e+00  \n",
       "4631           5.2          2012  2.849233e+07  0.000000e+00  \n",
       "3161           6.5          2008  0.000000e+00  0.000000e+00  \n",
       "6999           6.7          2004  3.001558e+07  1.045630e+08  \n",
       "32             6.8          2015  2.667999e+07  2.645056e+08  \n",
       "3425           5.5          2011  7.270485e+07  1.282266e+08  \n",
       "260            6.6          2015  0.000000e+00  0.000000e+00  \n",
       "8192           5.9          1995  0.000000e+00  0.000000e+00  \n",
       "6417           5.0          2005  0.000000e+00  0.000000e+00  \n",
       "9743           6.0          1968  0.000000e+00  3.134482e+06  \n",
       "1682           6.0          2009  0.000000e+00  0.000000e+00  "
      ]
     },
     "execution_count": 7,
     "metadata": {},
     "output_type": "execute_result"
    }
   ],
   "source": [
    "df_movies_tmdb.sample(20)"
   ]
  },
  {
   "cell_type": "markdown",
   "id": "eb2a5779",
   "metadata": {},
   "source": [
    "Sampling the data shows that unwanted rows have been dropped. However, from the sample returned and the data description, I notice that runtime, budget and revenue columns have zero values. If a lot of these values are present, it may affect our analysis. We'll have to handle these values along with the null values in other columns."
   ]
  },
  {
   "cell_type": "code",
   "execution_count": 8,
   "id": "96a24bf7",
   "metadata": {},
   "outputs": [
    {
     "data": {
      "text/plain": [
       "id                         0\n",
       "popularity                 0\n",
       "original_title             0\n",
       "cast                      76\n",
       "director                  44\n",
       "runtime                    0\n",
       "genres                    23\n",
       "production_companies    1030\n",
       "vote_count                 0\n",
       "vote_average               0\n",
       "release_year               0\n",
       "budget_adj                 0\n",
       "revenue_adj                0\n",
       "dtype: int64"
      ]
     },
     "execution_count": 8,
     "metadata": {},
     "output_type": "execute_result"
    }
   ],
   "source": [
    "df_movies_tmdb.isnull().sum()"
   ]
  },
  {
   "cell_type": "markdown",
   "id": "a6ecc618",
   "metadata": {},
   "source": [
    "Rows with null values will have to be dropped as the affected columns are relevant to my analysis."
   ]
  },
  {
   "cell_type": "code",
   "execution_count": 9,
   "id": "18e5ca91",
   "metadata": {},
   "outputs": [
    {
     "data": {
      "text/plain": [
       "id                      0\n",
       "popularity              0\n",
       "original_title          0\n",
       "cast                    0\n",
       "director                0\n",
       "runtime                 0\n",
       "genres                  0\n",
       "production_companies    0\n",
       "vote_count              0\n",
       "vote_average            0\n",
       "release_year            0\n",
       "budget_adj              0\n",
       "revenue_adj             0\n",
       "dtype: int64"
      ]
     },
     "execution_count": 9,
     "metadata": {},
     "output_type": "execute_result"
    }
   ],
   "source": [
    "df_movies_tmdb.dropna(axis = 0, inplace = True) #dropping null values from affected columns\n",
    "df_movies_tmdb.isnull().sum()"
   ]
  },
  {
   "cell_type": "code",
   "execution_count": 10,
   "id": "0218d3f2",
   "metadata": {},
   "outputs": [
    {
     "data": {
      "text/plain": [
       "1"
      ]
     },
     "execution_count": 10,
     "metadata": {},
     "output_type": "execute_result"
    }
   ],
   "source": [
    "#checking for duplicates\n",
    "df_movies_tmdb.duplicated().sum()"
   ]
  },
  {
   "cell_type": "code",
   "execution_count": 11,
   "id": "fd1a586f",
   "metadata": {},
   "outputs": [
    {
     "data": {
      "text/plain": [
       "0"
      ]
     },
     "execution_count": 11,
     "metadata": {},
     "output_type": "execute_result"
    }
   ],
   "source": [
    "#drop duplicates\n",
    "df_movies_tmdb.drop_duplicates(keep = 'first', inplace = True)\n",
    "df_movies_tmdb.duplicated().sum()"
   ]
  },
  {
   "cell_type": "markdown",
   "id": "1ad1694a",
   "metadata": {},
   "source": [
    "Null and duplicate columns have now been dropped. Next step is to replace rows with zero values."
   ]
  },
  {
   "cell_type": "code",
   "execution_count": 12,
   "id": "07093176",
   "metadata": {},
   "outputs": [
    {
     "name": "stdout",
     "output_type": "stream",
     "text": [
      "13\n",
      "4751\n",
      "5022\n"
     ]
    }
   ],
   "source": [
    "#Check for zeros\n",
    "\n",
    "zero_runtime = len(df_movies_tmdb[df_movies_tmdb['runtime'] == 0])\n",
    "zero_budget_adj = len(df_movies_tmdb[df_movies_tmdb['budget_adj'] == 0])\n",
    "zero_revenue_adj = len(df_movies_tmdb[df_movies_tmdb['revenue_adj'] == 0])\n",
    "\n",
    "print(zero_runtime)\n",
    "print(zero_budget_adj)\n",
    "print(zero_revenue_adj)"
   ]
  },
  {
   "cell_type": "code",
   "execution_count": 13,
   "id": "39ea4213",
   "metadata": {},
   "outputs": [],
   "source": [
    "#Replacing the zeros\n",
    "cols_to_replace = ['runtime', 'budget_adj', 'revenue_adj']\n",
    "for cols in cols_to_replace:\n",
    "    df_movies_tmdb[cols] = df_movies_tmdb[cols].replace(0, np.NaN)\n",
    "    df_movies_tmdb[cols] = df_movies_tmdb[cols].fillna(df_movies_tmdb[cols].mean())"
   ]
  },
  {
   "cell_type": "markdown",
   "id": "e129440b",
   "metadata": {},
   "source": [
    "Zero values have been replaced by the mean value of the respective columns"
   ]
  },
  {
   "cell_type": "code",
   "execution_count": 14,
   "id": "c9d3ad5c",
   "metadata": {},
   "outputs": [
    {
     "name": "stdout",
     "output_type": "stream",
     "text": [
      "<class 'pandas.core.frame.DataFrame'>\n",
      "Int64Index: 9772 entries, 0 to 10865\n",
      "Data columns (total 13 columns):\n",
      " #   Column                Non-Null Count  Dtype  \n",
      "---  ------                --------------  -----  \n",
      " 0   id                    9772 non-null   int64  \n",
      " 1   popularity            9772 non-null   float64\n",
      " 2   original_title        9772 non-null   object \n",
      " 3   cast                  9772 non-null   object \n",
      " 4   director              9772 non-null   object \n",
      " 5   runtime               9772 non-null   float64\n",
      " 6   genres                9772 non-null   object \n",
      " 7   production_companies  9772 non-null   object \n",
      " 8   vote_count            9772 non-null   int64  \n",
      " 9   vote_average          9772 non-null   float64\n",
      " 10  release_year          9772 non-null   int64  \n",
      " 11  budget_adj            9772 non-null   float64\n",
      " 12  revenue_adj           9772 non-null   float64\n",
      "dtypes: float64(5), int64(3), object(5)\n",
      "memory usage: 1.0+ MB\n"
     ]
    }
   ],
   "source": [
    "df_movies_tmdb.info()"
   ]
  },
  {
   "cell_type": "code",
   "execution_count": 15,
   "id": "e3b685f8",
   "metadata": {},
   "outputs": [
    {
     "data": {
      "text/plain": [
       "id                      0\n",
       "popularity              0\n",
       "original_title          0\n",
       "cast                    0\n",
       "director                0\n",
       "runtime                 0\n",
       "genres                  0\n",
       "production_companies    0\n",
       "vote_count              0\n",
       "vote_average            0\n",
       "release_year            0\n",
       "budget_adj              0\n",
       "revenue_adj             0\n",
       "dtype: int64"
      ]
     },
     "execution_count": 15,
     "metadata": {},
     "output_type": "execute_result"
    }
   ],
   "source": [
    "df_movies_tmdb.isnull().sum()"
   ]
  },
  {
   "cell_type": "markdown",
   "id": "2fc2e474",
   "metadata": {},
   "source": [
    "### Data has been cleaned, I can proceed with the analysis."
   ]
  },
  {
   "cell_type": "code",
   "execution_count": 16,
   "id": "b10b2c7e",
   "metadata": {},
   "outputs": [
    {
     "data": {
      "image/png": "[encoded data removed]",
      "text/plain": [
       "<Figure size 1080x1080 with 9 Axes>"
      ]
     },
     "metadata": {
      "needs_background": "light"
     },
     "output_type": "display_data"
    }
   ],
   "source": [
    "df_movies_tmdb.hist(bins = 10, figsize = (15,15));"
   ]
  },
  {
   "cell_type": "markdown",
   "id": "73cd4a7e",
   "metadata": {},
   "source": [
    "From the histograms above, we can see that more movies are released as the years go by, most movies are rated between 5 and 7 based on vote_average."
   ]
  },
  {
   "cell_type": "markdown",
   "id": "438f6394",
   "metadata": {},
   "source": [
    "### Question 1: Which movies receive the highest rating?(Top 10)"
   ]
  },
  {
   "cell_type": "code",
   "execution_count": 17,
   "id": "6d1c7786",
   "metadata": {},
   "outputs": [
    {
     "data": {
      "text/html": [
       "<div>\n",
       "<style scoped>\n",
       "    .dataframe tbody tr th:only-of-type {\n",
       "        vertical-align: middle;\n",
       "    }\n",
       "\n",
       "    .dataframe tbody tr th {\n",
       "        vertical-align: top;\n",
       "    }\n",
       "\n",
       "    .dataframe thead th {\n",
       "        text-align: right;\n",
       "    }\n",
       "</style>\n",
       "<table border=\"1\" class=\"dataframe\">\n",
       "  <thead>\n",
       "    <tr style=\"text-align: right;\">\n",
       "      <th></th>\n",
       "      <th>original_title</th>\n",
       "      <th>vote_average</th>\n",
       "    </tr>\n",
       "  </thead>\n",
       "  <tbody>\n",
       "    <tr>\n",
       "      <th>6911</th>\n",
       "      <td>Pink Floyd: Pulse</td>\n",
       "      <td>8.7</td>\n",
       "    </tr>\n",
       "    <tr>\n",
       "      <th>3690</th>\n",
       "      <td>The Art of Flight</td>\n",
       "      <td>8.5</td>\n",
       "    </tr>\n",
       "    <tr>\n",
       "      <th>8221</th>\n",
       "      <td>A Personal Journey with Martin Scorsese Throug...</td>\n",
       "      <td>8.5</td>\n",
       "    </tr>\n",
       "    <tr>\n",
       "      <th>8411</th>\n",
       "      <td>Queen - Rock Montreal</td>\n",
       "      <td>8.5</td>\n",
       "    </tr>\n",
       "    <tr>\n",
       "      <th>609</th>\n",
       "      <td>The Jinx: The Life and Deaths of Robert Durst</td>\n",
       "      <td>8.4</td>\n",
       "    </tr>\n",
       "    <tr>\n",
       "      <th>4178</th>\n",
       "      <td>The Shawshank Redemption</td>\n",
       "      <td>8.4</td>\n",
       "    </tr>\n",
       "    <tr>\n",
       "      <th>5986</th>\n",
       "      <td>Guten Tag, RamÃ³n</td>\n",
       "      <td>8.4</td>\n",
       "    </tr>\n",
       "    <tr>\n",
       "      <th>7948</th>\n",
       "      <td>Stop Making Sense</td>\n",
       "      <td>8.4</td>\n",
       "    </tr>\n",
       "    <tr>\n",
       "      <th>1322</th>\n",
       "      <td>One Direction: Where We Are - The Concert</td>\n",
       "      <td>8.3</td>\n",
       "    </tr>\n",
       "    <tr>\n",
       "      <th>1864</th>\n",
       "      <td>Iron Maiden: Flight 666</td>\n",
       "      <td>8.3</td>\n",
       "    </tr>\n",
       "  </tbody>\n",
       "</table>\n",
       "</div>"
      ],
      "text/plain": [
       "                                         original_title  vote_average\n",
       "6911                                  Pink Floyd: Pulse           8.7\n",
       "3690                                  The Art of Flight           8.5\n",
       "8221  A Personal Journey with Martin Scorsese Throug...           8.5\n",
       "8411                              Queen - Rock Montreal           8.5\n",
       "609       The Jinx: The Life and Deaths of Robert Durst           8.4\n",
       "4178                           The Shawshank Redemption           8.4\n",
       "5986                                  Guten Tag, RamÃ³n           8.4\n",
       "7948                                  Stop Making Sense           8.4\n",
       "1322          One Direction: Where We Are - The Concert           8.3\n",
       "1864                            Iron Maiden: Flight 666           8.3"
      ]
     },
     "execution_count": 17,
     "metadata": {},
     "output_type": "execute_result"
    }
   ],
   "source": [
    "top_10_rating = df_movies_tmdb.nlargest(10, 'vote_average')[['original_title','vote_average']]\n",
    "top_10_rating"
   ]
  },
  {
   "cell_type": "markdown",
   "id": "532d0f5b",
   "metadata": {},
   "source": [
    "### Question 1: Which movies are the most popular according to tmdb?(Top 10)"
   ]
  },
  {
   "cell_type": "code",
   "execution_count": 18,
   "id": "800d2be8",
   "metadata": {},
   "outputs": [
    {
     "data": {
      "text/html": [
       "<div>\n",
       "<style scoped>\n",
       "    .dataframe tbody tr th:only-of-type {\n",
       "        vertical-align: middle;\n",
       "    }\n",
       "\n",
       "    .dataframe tbody tr th {\n",
       "        vertical-align: top;\n",
       "    }\n",
       "\n",
       "    .dataframe thead th {\n",
       "        text-align: right;\n",
       "    }\n",
       "</style>\n",
       "<table border=\"1\" class=\"dataframe\">\n",
       "  <thead>\n",
       "    <tr style=\"text-align: right;\">\n",
       "      <th></th>\n",
       "      <th>original_title</th>\n",
       "      <th>popularity</th>\n",
       "    </tr>\n",
       "  </thead>\n",
       "  <tbody>\n",
       "    <tr>\n",
       "      <th>0</th>\n",
       "      <td>Jurassic World</td>\n",
       "      <td>32.985763</td>\n",
       "    </tr>\n",
       "    <tr>\n",
       "      <th>1</th>\n",
       "      <td>Mad Max: Fury Road</td>\n",
       "      <td>28.419936</td>\n",
       "    </tr>\n",
       "    <tr>\n",
       "      <th>2</th>\n",
       "      <td>Interstellar</td>\n",
       "      <td>24.949134</td>\n",
       "    </tr>\n",
       "    <tr>\n",
       "      <th>3</th>\n",
       "      <td>Guardians of the Galaxy</td>\n",
       "      <td>14.311205</td>\n",
       "    </tr>\n",
       "    <tr>\n",
       "      <th>4</th>\n",
       "      <td>Insurgent</td>\n",
       "      <td>13.112507</td>\n",
       "    </tr>\n",
       "    <tr>\n",
       "      <th>5</th>\n",
       "      <td>Captain America: The Winter Soldier</td>\n",
       "      <td>12.971027</td>\n",
       "    </tr>\n",
       "    <tr>\n",
       "      <th>6</th>\n",
       "      <td>Star Wars</td>\n",
       "      <td>12.037933</td>\n",
       "    </tr>\n",
       "    <tr>\n",
       "      <th>7</th>\n",
       "      <td>John Wick</td>\n",
       "      <td>11.422751</td>\n",
       "    </tr>\n",
       "    <tr>\n",
       "      <th>8</th>\n",
       "      <td>Star Wars: The Force Awakens</td>\n",
       "      <td>11.173104</td>\n",
       "    </tr>\n",
       "    <tr>\n",
       "      <th>9</th>\n",
       "      <td>The Hunger Games: Mockingjay - Part 1</td>\n",
       "      <td>10.739009</td>\n",
       "    </tr>\n",
       "  </tbody>\n",
       "</table>\n",
       "</div>"
      ],
      "text/plain": [
       "                          original_title  popularity\n",
       "0                         Jurassic World   32.985763\n",
       "1                     Mad Max: Fury Road   28.419936\n",
       "2                           Interstellar   24.949134\n",
       "3                Guardians of the Galaxy   14.311205\n",
       "4                              Insurgent   13.112507\n",
       "5    Captain America: The Winter Soldier   12.971027\n",
       "6                              Star Wars   12.037933\n",
       "7                              John Wick   11.422751\n",
       "8           Star Wars: The Force Awakens   11.173104\n",
       "9  The Hunger Games: Mockingjay - Part 1   10.739009"
      ]
     },
     "execution_count": 18,
     "metadata": {},
     "output_type": "execute_result"
    }
   ],
   "source": [
    "top_10_popular = df_movies_tmdb.sort_values('popularity', ascending = False, ignore_index = True)[['original_title', 'popularity']].head(10)\n",
    "top_10_popular"
   ]
  },
  {
   "cell_type": "code",
   "execution_count": 19,
   "id": "45e647e1",
   "metadata": {},
   "outputs": [
    {
     "data": {
      "image/png": "[encoded data removed]",
      "text/plain": [
       "<Figure size 432x288 with 1 Axes>"
      ]
     },
     "metadata": {
      "needs_background": "light"
     },
     "output_type": "display_data"
    }
   ],
   "source": [
    "#plotting\n",
    "top_10_popular.plot(x = 'original_title', y = 'popularity', kind = 'barh', title = \"Top 10 Most Popular Movies\").invert_yaxis()"
   ]
  },
  {
   "cell_type": "markdown",
   "id": "c3e5386f",
   "metadata": {},
   "source": [
    "A breakdown of movies with the highest rating and popularity. Pink Floyd: Pulse is the best rated movie while Jurassic World is the most popular movie."
   ]
  },
  {
   "cell_type": "markdown",
   "id": "6d800b88",
   "metadata": {},
   "source": [
    "### Question 2: Which genres of movie generate the highest revenue?"
   ]
  },
  {
   "cell_type": "code",
   "execution_count": 20,
   "id": "ec1f045f",
   "metadata": {},
   "outputs": [],
   "source": [
    "#From the initial exploration, it was noticed that the genre column had multiple genres combined\n",
    "#First we need to split the genre column. \n",
    "#What I'll be doing here is to split the genre column. This will be defined as a reusable function as we have the same issue in pother columns\n",
    "#Next, I'll be computing the average revenue for each genre.\n",
    "\n",
    "#To segment the data, I'll begin by making a copy of the initial dataset\n",
    "\n",
    "df_genre = df_movies_tmdb.copy()\n",
    "\n",
    "def cols_split(rep, data, old_col, new_col):\n",
    "    rep = data[old_col].str.split('|').apply(pd.Series, 1).stack()\n",
    "    rep.index = rep.index.droplevel(-1)\n",
    "    rep.name = new_col\n",
    "    pd.DataFrame(rep, columns = [new_col])\n",
    "    data = data.join(rep)\n",
    "    del data[old_col]\n",
    "    return data"
   ]
  },
  {
   "cell_type": "code",
   "execution_count": 21,
   "id": "b6dee18a",
   "metadata": {},
   "outputs": [],
   "source": [
    "df_genre = cols_split('g', df_genre, 'genres', 'genre')"
   ]
  },
  {
   "cell_type": "code",
   "execution_count": 22,
   "id": "2ffb89f2",
   "metadata": {},
   "outputs": [
    {
     "data": {
      "text/plain": [
       "(24650, 13)"
      ]
     },
     "execution_count": 22,
     "metadata": {},
     "output_type": "execute_result"
    }
   ],
   "source": [
    "df_genre.shape"
   ]
  },
  {
   "cell_type": "markdown",
   "id": "0ff1d124",
   "metadata": {},
   "source": [
    "We have confirmed that the genres have been split up and the genre column contains only one genre per row."
   ]
  },
  {
   "cell_type": "code",
   "execution_count": 23,
   "id": "03f24cbd",
   "metadata": {},
   "outputs": [
    {
     "name": "stdout",
     "output_type": "stream",
     "text": [
      "genre\n",
      "Adventure          1.972770e+08\n",
      "Fantasy            1.747415e+08\n",
      "Animation          1.693471e+08\n",
      "Family             1.622273e+08\n",
      "Science Fiction    1.511873e+08\n",
      "Action             1.496438e+08\n",
      "War                1.282884e+08\n",
      "Western            1.172323e+08\n",
      "TV Movie           1.169264e+08\n",
      "Thriller           1.158007e+08\n",
      "Music              1.122086e+08\n",
      "History            1.117757e+08\n",
      "Comedy             1.110091e+08\n",
      "Mystery            1.084957e+08\n",
      "Crime              1.068251e+08\n",
      "Romance            1.057274e+08\n",
      "Drama              1.015532e+08\n",
      "Horror             1.006342e+08\n",
      "Foreign            9.771234e+07\n",
      "Documentary        9.237391e+07\n",
      "Name: revenue_adj, dtype: float64\n"
     ]
    }
   ],
   "source": [
    "#Getting the top genres by average revenue\n",
    "\n",
    "df_genre['revenue_adj'] = df_genre['revenue_adj'].astype(int)\n",
    "df_topgenre = df_genre.groupby('genre')['revenue_adj'].mean().sort_values(ascending = False)\n",
    "print(df_topgenre)"
   ]
  },
  {
   "cell_type": "code",
   "execution_count": 24,
   "id": "19f8e26f",
   "metadata": {},
   "outputs": [
    {
     "data": {
      "image/png": "[encoded data removed]",
      "text/plain": [
       "<Figure size 432x288 with 1 Axes>"
      ]
     },
     "metadata": {
      "needs_background": "light"
     },
     "output_type": "display_data"
    }
   ],
   "source": [
    "df_topgenre.plot(kind = 'barh', title = 'Genres by Revenue Generated').invert_yaxis()"
   ]
  },
  {
   "cell_type": "markdown",
   "id": "67083d68",
   "metadata": {},
   "source": [
    "Results show that adventure is the genre that generates the highest amount of revenue while documentary generates the least revenue"
   ]
  },
  {
   "cell_type": "markdown",
   "id": "ce6b55e4",
   "metadata": {},
   "source": [
    "### Question 3: Which of the casts is asscociated with high revenue movies?"
   ]
  },
  {
   "cell_type": "code",
   "execution_count": 25,
   "id": "2d754f5b",
   "metadata": {},
   "outputs": [
    {
     "data": {
      "text/html": [
       "<div>\n",
       "<style scoped>\n",
       "    .dataframe tbody tr th:only-of-type {\n",
       "        vertical-align: middle;\n",
       "    }\n",
       "\n",
       "    .dataframe tbody tr th {\n",
       "        vertical-align: top;\n",
       "    }\n",
       "\n",
       "    .dataframe thead th {\n",
       "        text-align: right;\n",
       "    }\n",
       "</style>\n",
       "<table border=\"1\" class=\"dataframe\">\n",
       "  <thead>\n",
       "    <tr style=\"text-align: right;\">\n",
       "      <th></th>\n",
       "      <th>id</th>\n",
       "      <th>popularity</th>\n",
       "      <th>original_title</th>\n",
       "      <th>cast</th>\n",
       "      <th>director</th>\n",
       "      <th>runtime</th>\n",
       "      <th>genres</th>\n",
       "      <th>production_companies</th>\n",
       "      <th>vote_count</th>\n",
       "      <th>vote_average</th>\n",
       "      <th>release_year</th>\n",
       "      <th>budget_adj</th>\n",
       "      <th>revenue_adj</th>\n",
       "    </tr>\n",
       "  </thead>\n",
       "  <tbody>\n",
       "    <tr>\n",
       "      <th>0</th>\n",
       "      <td>135397</td>\n",
       "      <td>32.985763</td>\n",
       "      <td>Jurassic World</td>\n",
       "      <td>Chris Pratt|Bryce Dallas Howard|Irrfan Khan|Vi...</td>\n",
       "      <td>Colin Trevorrow</td>\n",
       "      <td>124.0</td>\n",
       "      <td>Action|Adventure|Science Fiction|Thriller</td>\n",
       "      <td>Universal Studios|Amblin Entertainment|Legenda...</td>\n",
       "      <td>5562</td>\n",
       "      <td>6.5</td>\n",
       "      <td>2015</td>\n",
       "      <td>1.379999e+08</td>\n",
       "      <td>1.392446e+09</td>\n",
       "    </tr>\n",
       "    <tr>\n",
       "      <th>1</th>\n",
       "      <td>76341</td>\n",
       "      <td>28.419936</td>\n",
       "      <td>Mad Max: Fury Road</td>\n",
       "      <td>Tom Hardy|Charlize Theron|Hugh Keays-Byrne|Nic...</td>\n",
       "      <td>George Miller</td>\n",
       "      <td>120.0</td>\n",
       "      <td>Action|Adventure|Science Fiction|Thriller</td>\n",
       "      <td>Village Roadshow Pictures|Kennedy Miller Produ...</td>\n",
       "      <td>6185</td>\n",
       "      <td>7.1</td>\n",
       "      <td>2015</td>\n",
       "      <td>1.379999e+08</td>\n",
       "      <td>3.481613e+08</td>\n",
       "    </tr>\n",
       "    <tr>\n",
       "      <th>2</th>\n",
       "      <td>262500</td>\n",
       "      <td>13.112507</td>\n",
       "      <td>Insurgent</td>\n",
       "      <td>Shailene Woodley|Theo James|Kate Winslet|Ansel...</td>\n",
       "      <td>Robert Schwentke</td>\n",
       "      <td>119.0</td>\n",
       "      <td>Adventure|Science Fiction|Thriller</td>\n",
       "      <td>Summit Entertainment|Mandeville Films|Red Wago...</td>\n",
       "      <td>2480</td>\n",
       "      <td>6.3</td>\n",
       "      <td>2015</td>\n",
       "      <td>1.012000e+08</td>\n",
       "      <td>2.716190e+08</td>\n",
       "    </tr>\n",
       "    <tr>\n",
       "      <th>3</th>\n",
       "      <td>140607</td>\n",
       "      <td>11.173104</td>\n",
       "      <td>Star Wars: The Force Awakens</td>\n",
       "      <td>Harrison Ford|Mark Hamill|Carrie Fisher|Adam D...</td>\n",
       "      <td>J.J. Abrams</td>\n",
       "      <td>136.0</td>\n",
       "      <td>Action|Adventure|Science Fiction|Fantasy</td>\n",
       "      <td>Lucasfilm|Truenorth Productions|Bad Robot</td>\n",
       "      <td>5292</td>\n",
       "      <td>7.5</td>\n",
       "      <td>2015</td>\n",
       "      <td>1.839999e+08</td>\n",
       "      <td>1.902723e+09</td>\n",
       "    </tr>\n",
       "    <tr>\n",
       "      <th>4</th>\n",
       "      <td>168259</td>\n",
       "      <td>9.335014</td>\n",
       "      <td>Furious 7</td>\n",
       "      <td>Vin Diesel|Paul Walker|Jason Statham|Michelle ...</td>\n",
       "      <td>James Wan</td>\n",
       "      <td>137.0</td>\n",
       "      <td>Action|Crime|Thriller</td>\n",
       "      <td>Universal Pictures|Original Film|Media Rights ...</td>\n",
       "      <td>2947</td>\n",
       "      <td>7.3</td>\n",
       "      <td>2015</td>\n",
       "      <td>1.747999e+08</td>\n",
       "      <td>1.385749e+09</td>\n",
       "    </tr>\n",
       "    <tr>\n",
       "      <th>...</th>\n",
       "      <td>...</td>\n",
       "      <td>...</td>\n",
       "      <td>...</td>\n",
       "      <td>...</td>\n",
       "      <td>...</td>\n",
       "      <td>...</td>\n",
       "      <td>...</td>\n",
       "      <td>...</td>\n",
       "      <td>...</td>\n",
       "      <td>...</td>\n",
       "      <td>...</td>\n",
       "      <td>...</td>\n",
       "      <td>...</td>\n",
       "    </tr>\n",
       "    <tr>\n",
       "      <th>10861</th>\n",
       "      <td>21</td>\n",
       "      <td>0.080598</td>\n",
       "      <td>The Endless Summer</td>\n",
       "      <td>Michael Hynson|Robert August|Lord 'Tally Ho' B...</td>\n",
       "      <td>Bruce Brown</td>\n",
       "      <td>95.0</td>\n",
       "      <td>Documentary</td>\n",
       "      <td>Bruce Brown Films</td>\n",
       "      <td>11</td>\n",
       "      <td>7.4</td>\n",
       "      <td>1966</td>\n",
       "      <td>3.778790e+07</td>\n",
       "      <td>1.173732e+08</td>\n",
       "    </tr>\n",
       "    <tr>\n",
       "      <th>10862</th>\n",
       "      <td>20379</td>\n",
       "      <td>0.065543</td>\n",
       "      <td>Grand Prix</td>\n",
       "      <td>James Garner|Eva Marie Saint|Yves Montand|Tosh...</td>\n",
       "      <td>John Frankenheimer</td>\n",
       "      <td>176.0</td>\n",
       "      <td>Action|Adventure|Drama</td>\n",
       "      <td>Cherokee Productions|Joel Productions|Douglas ...</td>\n",
       "      <td>20</td>\n",
       "      <td>5.7</td>\n",
       "      <td>1966</td>\n",
       "      <td>3.778790e+07</td>\n",
       "      <td>1.173732e+08</td>\n",
       "    </tr>\n",
       "    <tr>\n",
       "      <th>10863</th>\n",
       "      <td>39768</td>\n",
       "      <td>0.065141</td>\n",
       "      <td>Beregis Avtomobilya</td>\n",
       "      <td>Innokentiy Smoktunovskiy|Oleg Efremov|Georgi Z...</td>\n",
       "      <td>Eldar Ryazanov</td>\n",
       "      <td>94.0</td>\n",
       "      <td>Mystery|Comedy</td>\n",
       "      <td>Mosfilm</td>\n",
       "      <td>11</td>\n",
       "      <td>6.5</td>\n",
       "      <td>1966</td>\n",
       "      <td>3.778790e+07</td>\n",
       "      <td>1.173732e+08</td>\n",
       "    </tr>\n",
       "    <tr>\n",
       "      <th>10864</th>\n",
       "      <td>21449</td>\n",
       "      <td>0.064317</td>\n",
       "      <td>What's Up, Tiger Lily?</td>\n",
       "      <td>Tatsuya Mihashi|Akiko Wakabayashi|Mie Hama|Joh...</td>\n",
       "      <td>Woody Allen</td>\n",
       "      <td>80.0</td>\n",
       "      <td>Action|Comedy</td>\n",
       "      <td>Benedict Pictures Corp.</td>\n",
       "      <td>22</td>\n",
       "      <td>5.4</td>\n",
       "      <td>1966</td>\n",
       "      <td>3.778790e+07</td>\n",
       "      <td>1.173732e+08</td>\n",
       "    </tr>\n",
       "    <tr>\n",
       "      <th>10865</th>\n",
       "      <td>22293</td>\n",
       "      <td>0.035919</td>\n",
       "      <td>Manos: The Hands of Fate</td>\n",
       "      <td>Harold P. Warren|Tom Neyman|John Reynolds|Dian...</td>\n",
       "      <td>Harold P. Warren</td>\n",
       "      <td>74.0</td>\n",
       "      <td>Horror</td>\n",
       "      <td>Norm-Iris</td>\n",
       "      <td>15</td>\n",
       "      <td>1.5</td>\n",
       "      <td>1966</td>\n",
       "      <td>1.276423e+05</td>\n",
       "      <td>1.173732e+08</td>\n",
       "    </tr>\n",
       "  </tbody>\n",
       "</table>\n",
       "<p>9772 rows × 13 columns</p>\n",
       "</div>"
      ],
      "text/plain": [
       "           id  popularity                original_title  \\\n",
       "0      135397   32.985763                Jurassic World   \n",
       "1       76341   28.419936            Mad Max: Fury Road   \n",
       "2      262500   13.112507                     Insurgent   \n",
       "3      140607   11.173104  Star Wars: The Force Awakens   \n",
       "4      168259    9.335014                     Furious 7   \n",
       "...       ...         ...                           ...   \n",
       "10861      21    0.080598            The Endless Summer   \n",
       "10862   20379    0.065543                    Grand Prix   \n",
       "10863   39768    0.065141           Beregis Avtomobilya   \n",
       "10864   21449    0.064317        What's Up, Tiger Lily?   \n",
       "10865   22293    0.035919      Manos: The Hands of Fate   \n",
       "\n",
       "                                                    cast            director  \\\n",
       "0      Chris Pratt|Bryce Dallas Howard|Irrfan Khan|Vi...     Colin Trevorrow   \n",
       "1      Tom Hardy|Charlize Theron|Hugh Keays-Byrne|Nic...       George Miller   \n",
       "2      Shailene Woodley|Theo James|Kate Winslet|Ansel...    Robert Schwentke   \n",
       "3      Harrison Ford|Mark Hamill|Carrie Fisher|Adam D...         J.J. Abrams   \n",
       "4      Vin Diesel|Paul Walker|Jason Statham|Michelle ...           James Wan   \n",
       "...                                                  ...                 ...   \n",
       "10861  Michael Hynson|Robert August|Lord 'Tally Ho' B...         Bruce Brown   \n",
       "10862  James Garner|Eva Marie Saint|Yves Montand|Tosh...  John Frankenheimer   \n",
       "10863  Innokentiy Smoktunovskiy|Oleg Efremov|Georgi Z...      Eldar Ryazanov   \n",
       "10864  Tatsuya Mihashi|Akiko Wakabayashi|Mie Hama|Joh...         Woody Allen   \n",
       "10865  Harold P. Warren|Tom Neyman|John Reynolds|Dian...    Harold P. Warren   \n",
       "\n",
       "       runtime                                     genres  \\\n",
       "0        124.0  Action|Adventure|Science Fiction|Thriller   \n",
       "1        120.0  Action|Adventure|Science Fiction|Thriller   \n",
       "2        119.0         Adventure|Science Fiction|Thriller   \n",
       "3        136.0   Action|Adventure|Science Fiction|Fantasy   \n",
       "4        137.0                      Action|Crime|Thriller   \n",
       "...        ...                                        ...   \n",
       "10861     95.0                                Documentary   \n",
       "10862    176.0                     Action|Adventure|Drama   \n",
       "10863     94.0                             Mystery|Comedy   \n",
       "10864     80.0                              Action|Comedy   \n",
       "10865     74.0                                     Horror   \n",
       "\n",
       "                                    production_companies  vote_count  \\\n",
       "0      Universal Studios|Amblin Entertainment|Legenda...        5562   \n",
       "1      Village Roadshow Pictures|Kennedy Miller Produ...        6185   \n",
       "2      Summit Entertainment|Mandeville Films|Red Wago...        2480   \n",
       "3              Lucasfilm|Truenorth Productions|Bad Robot        5292   \n",
       "4      Universal Pictures|Original Film|Media Rights ...        2947   \n",
       "...                                                  ...         ...   \n",
       "10861                                  Bruce Brown Films          11   \n",
       "10862  Cherokee Productions|Joel Productions|Douglas ...          20   \n",
       "10863                                            Mosfilm          11   \n",
       "10864                            Benedict Pictures Corp.          22   \n",
       "10865                                          Norm-Iris          15   \n",
       "\n",
       "       vote_average  release_year    budget_adj   revenue_adj  \n",
       "0               6.5          2015  1.379999e+08  1.392446e+09  \n",
       "1               7.1          2015  1.379999e+08  3.481613e+08  \n",
       "2               6.3          2015  1.012000e+08  2.716190e+08  \n",
       "3               7.5          2015  1.839999e+08  1.902723e+09  \n",
       "4               7.3          2015  1.747999e+08  1.385749e+09  \n",
       "...             ...           ...           ...           ...  \n",
       "10861           7.4          1966  3.778790e+07  1.173732e+08  \n",
       "10862           5.7          1966  3.778790e+07  1.173732e+08  \n",
       "10863           6.5          1966  3.778790e+07  1.173732e+08  \n",
       "10864           5.4          1966  3.778790e+07  1.173732e+08  \n",
       "10865           1.5          1966  1.276423e+05  1.173732e+08  \n",
       "\n",
       "[9772 rows x 13 columns]"
      ]
     },
     "execution_count": 25,
     "metadata": {},
     "output_type": "execute_result"
    }
   ],
   "source": [
    "df_revenue = df_movies_tmdb.copy()\n",
    "df_revenue"
   ]
  },
  {
   "cell_type": "code",
   "execution_count": 26,
   "id": "6c76d616",
   "metadata": {},
   "outputs": [
    {
     "data": {
      "text/plain": [
       "(50, 13)"
      ]
     },
     "execution_count": 26,
     "metadata": {},
     "output_type": "execute_result"
    }
   ],
   "source": [
    "df_revenues = df_revenue.nlargest(50, 'revenue_adj')\n",
    "df_revenues.shape"
   ]
  },
  {
   "cell_type": "code",
   "execution_count": 27,
   "id": "b1426db1",
   "metadata": {},
   "outputs": [],
   "source": [
    "df_cast = df_revenues.copy()"
   ]
  },
  {
   "cell_type": "code",
   "execution_count": 28,
   "id": "c4dc0ffa",
   "metadata": {},
   "outputs": [],
   "source": [
    "df_cast = cols_split('c', df_cast, 'cast', 'movie_cast')"
   ]
  },
  {
   "cell_type": "code",
   "execution_count": 29,
   "id": "c61b2432",
   "metadata": {},
   "outputs": [
    {
     "data": {
      "text/plain": [
       "(250, 13)"
      ]
     },
     "execution_count": 29,
     "metadata": {},
     "output_type": "execute_result"
    }
   ],
   "source": [
    "df_cast.shape"
   ]
  },
  {
   "cell_type": "code",
   "execution_count": 30,
   "id": "6d32c54e",
   "metadata": {},
   "outputs": [
    {
     "name": "stdout",
     "output_type": "stream",
     "text": [
      "           movie_cast  count\n",
      "0    Daniel Radcliffe      5\n",
      "1       Orlando Bloom      5\n",
      "2        Rupert Grint      5\n",
      "3         Emma Watson      5\n",
      "4       Harrison Ford      4\n",
      "5       Carrie Fisher      4\n",
      "6         Mark Hamill      4\n",
      "7         Johnny Depp      4\n",
      "8        Ian McKellen      4\n",
      "9     Viggo Mortensen      3\n",
      "10        Elijah Wood      3\n",
      "11          Liv Tyler      3\n",
      "12      Ralph Fiennes      3\n",
      "13  Robert Downey Jr.      3\n"
     ]
    }
   ],
   "source": [
    "df_topcast = df_cast.groupby('movie_cast')['movie_cast'].count().reset_index(name = 'count')\n",
    "df_topcast.sort_values('count', ascending = False, ignore_index = True, inplace = True)\n",
    "df_topcast['count'] = df_topcast['count'].astype(int)\n",
    "print(df_topcast.query('count > 2'))"
   ]
  },
  {
   "cell_type": "code",
   "execution_count": 31,
   "id": "b7814bf8",
   "metadata": {},
   "outputs": [
    {
     "name": "stdout",
     "output_type": "stream",
     "text": [
      "                index  count\n",
      "0         Emma Watson      5\n",
      "1        Rupert Grint      5\n",
      "2    Daniel Radcliffe      5\n",
      "3       Orlando Bloom      5\n",
      "4        Ian McKellen      4\n",
      "5         Johnny Depp      4\n",
      "6       Harrison Ford      4\n",
      "7         Mark Hamill      4\n",
      "8       Carrie Fisher      4\n",
      "9           Liv Tyler      3\n",
      "10  Robert Downey Jr.      3\n",
      "11      Ralph Fiennes      3\n",
      "12        Elijah Wood      3\n",
      "13    Viggo Mortensen      3\n"
     ]
    }
   ],
   "source": [
    "df_top = df_cast['movie_cast'].value_counts().reset_index(name = 'count')\n",
    "print (df_top.query('count > 2'))"
   ]
  },
  {
   "cell_type": "markdown",
   "id": "5d30417b",
   "metadata": {},
   "source": [
    "Here, the goal was to confirm casts who have acted in over two high revenue movies. This can point to casts who are likely to make a movie succesful."
   ]
  },
  {
   "cell_type": "markdown",
   "id": "9bb82c6d",
   "metadata": {},
   "source": [
    "### Qustion 4: How many movies has a cast been associated with?"
   ]
  },
  {
   "cell_type": "code",
   "execution_count": 32,
   "id": "bc03ca70",
   "metadata": {},
   "outputs": [],
   "source": [
    "df_movie_cast = df_movies_tmdb\n",
    "\n",
    "df_movie_cast = cols_split('mc', df_movie_cast, 'cast', 'movie_cast')"
   ]
  },
  {
   "cell_type": "code",
   "execution_count": 33,
   "id": "2f3292b4",
   "metadata": {},
   "outputs": [
    {
     "data": {
      "text/html": [
       "<div>\n",
       "<style scoped>\n",
       "    .dataframe tbody tr th:only-of-type {\n",
       "        vertical-align: middle;\n",
       "    }\n",
       "\n",
       "    .dataframe tbody tr th {\n",
       "        vertical-align: top;\n",
       "    }\n",
       "\n",
       "    .dataframe thead th {\n",
       "        text-align: right;\n",
       "    }\n",
       "</style>\n",
       "<table border=\"1\" class=\"dataframe\">\n",
       "  <thead>\n",
       "    <tr style=\"text-align: right;\">\n",
       "      <th></th>\n",
       "      <th>movie_cast</th>\n",
       "      <th>count</th>\n",
       "    </tr>\n",
       "  </thead>\n",
       "  <tbody>\n",
       "    <tr>\n",
       "      <th>13805</th>\n",
       "      <td>Robert De Niro</td>\n",
       "      <td>72</td>\n",
       "    </tr>\n",
       "    <tr>\n",
       "      <th>14464</th>\n",
       "      <td>Samuel L. Jackson</td>\n",
       "      <td>70</td>\n",
       "    </tr>\n",
       "    <tr>\n",
       "      <th>2251</th>\n",
       "      <td>Bruce Willis</td>\n",
       "      <td>62</td>\n",
       "    </tr>\n",
       "    <tr>\n",
       "      <th>12272</th>\n",
       "      <td>Nicolas Cage</td>\n",
       "      <td>61</td>\n",
       "    </tr>\n",
       "    <tr>\n",
       "      <th>11344</th>\n",
       "      <td>Michael Caine</td>\n",
       "      <td>52</td>\n",
       "    </tr>\n",
       "    <tr>\n",
       "      <th>13968</th>\n",
       "      <td>Robin Williams</td>\n",
       "      <td>51</td>\n",
       "    </tr>\n",
       "    <tr>\n",
       "      <th>11895</th>\n",
       "      <td>Morgan Freeman</td>\n",
       "      <td>49</td>\n",
       "    </tr>\n",
       "    <tr>\n",
       "      <th>8065</th>\n",
       "      <td>John Cusack</td>\n",
       "      <td>48</td>\n",
       "    </tr>\n",
       "    <tr>\n",
       "      <th>8106</th>\n",
       "      <td>John Goodman</td>\n",
       "      <td>48</td>\n",
       "    </tr>\n",
       "    <tr>\n",
       "      <th>350</th>\n",
       "      <td>Alec Baldwin</td>\n",
       "      <td>47</td>\n",
       "    </tr>\n",
       "    <tr>\n",
       "      <th>9942</th>\n",
       "      <td>Liam Neeson</td>\n",
       "      <td>47</td>\n",
       "    </tr>\n",
       "    <tr>\n",
       "      <th>15516</th>\n",
       "      <td>Susan Sarandon</td>\n",
       "      <td>47</td>\n",
       "    </tr>\n",
       "    <tr>\n",
       "      <th>8669</th>\n",
       "      <td>Julianne Moore</td>\n",
       "      <td>46</td>\n",
       "    </tr>\n",
       "    <tr>\n",
       "      <th>16096</th>\n",
       "      <td>Tom Hanks</td>\n",
       "      <td>46</td>\n",
       "    </tr>\n",
       "    <tr>\n",
       "      <th>4163</th>\n",
       "      <td>Dennis Quaid</td>\n",
       "      <td>45</td>\n",
       "    </tr>\n",
       "    <tr>\n",
       "      <th>5635</th>\n",
       "      <td>Gene Hackman</td>\n",
       "      <td>45</td>\n",
       "    </tr>\n",
       "    <tr>\n",
       "      <th>11292</th>\n",
       "      <td>Meryl Streep</td>\n",
       "      <td>44</td>\n",
       "    </tr>\n",
       "    <tr>\n",
       "      <th>15576</th>\n",
       "      <td>Sylvester Stallone</td>\n",
       "      <td>44</td>\n",
       "    </tr>\n",
       "    <tr>\n",
       "      <th>16785</th>\n",
       "      <td>Willem Dafoe</td>\n",
       "      <td>44</td>\n",
       "    </tr>\n",
       "    <tr>\n",
       "      <th>3225</th>\n",
       "      <td>Clint Eastwood</td>\n",
       "      <td>43</td>\n",
       "    </tr>\n",
       "  </tbody>\n",
       "</table>\n",
       "</div>"
      ],
      "text/plain": [
       "               movie_cast  count\n",
       "13805      Robert De Niro     72\n",
       "14464   Samuel L. Jackson     70\n",
       "2251         Bruce Willis     62\n",
       "12272        Nicolas Cage     61\n",
       "11344       Michael Caine     52\n",
       "13968      Robin Williams     51\n",
       "11895      Morgan Freeman     49\n",
       "8065          John Cusack     48\n",
       "8106         John Goodman     48\n",
       "350          Alec Baldwin     47\n",
       "9942          Liam Neeson     47\n",
       "15516      Susan Sarandon     47\n",
       "8669       Julianne Moore     46\n",
       "16096           Tom Hanks     46\n",
       "4163         Dennis Quaid     45\n",
       "5635         Gene Hackman     45\n",
       "11292        Meryl Streep     44\n",
       "15576  Sylvester Stallone     44\n",
       "16785        Willem Dafoe     44\n",
       "3225       Clint Eastwood     43"
      ]
     },
     "execution_count": 33,
     "metadata": {},
     "output_type": "execute_result"
    }
   ],
   "source": [
    "df_top_moviecast = df_movie_cast.groupby('movie_cast')['movie_cast'].count().reset_index(name = 'count')\n",
    "df_top_moviecast = df_top_moviecast.nlargest(20, 'count')[['movie_cast', 'count']]\n",
    "df_top_moviecast"
   ]
  },
  {
   "cell_type": "markdown",
   "id": "8f01dd8b",
   "metadata": {},
   "source": [
    "The results show the top 20 cast that have acted in the highest number of movies. Robert De Niro is the highest casted actor with 72 movies."
   ]
  },
  {
   "cell_type": "markdown",
   "id": "8521c3a1",
   "metadata": {},
   "source": [
    "### Question 5: Does runtime affect movie rating/popularity?"
   ]
  },
  {
   "cell_type": "code",
   "execution_count": 34,
   "id": "1feea614",
   "metadata": {},
   "outputs": [
    {
     "data": {
      "image/png": "[encoded data removed]",
      "text/plain": [
       "<Figure size 864x720 with 1 Axes>"
      ]
     },
     "metadata": {
      "needs_background": "light"
     },
     "output_type": "display_data"
    }
   ],
   "source": [
    "plt.figure(figsize = (12,10))\n",
    "sns.scatterplot(data = df_movies_tmdb,x = 'runtime',y = 'vote_average')\n",
    "plt.title('Rating vs Runtime') #title\n",
    "plt.xlabel('Runtime') #x label\n",
    "plt.ylabel('Rating') #y label\n",
    "plt.show()"
   ]
  },
  {
   "cell_type": "markdown",
   "id": "0596e33e",
   "metadata": {},
   "source": [
    "Based on the plot above, movies with more runtime generally get good ratings. However, runtime may not be a determinant for good rating as movies with shorter runtimes also have good rating."
   ]
  },
  {
   "cell_type": "code",
   "execution_count": 35,
   "id": "23a68b33",
   "metadata": {},
   "outputs": [
    {
     "data": {
      "image/png": "[encoded data removed]",
      "text/plain": [
       "<Figure size 864x720 with 1 Axes>"
      ]
     },
     "metadata": {
      "needs_background": "light"
     },
     "output_type": "display_data"
    }
   ],
   "source": [
    "plt.figure(figsize = (12,10))\n",
    "sns.scatterplot(data = df_movies_tmdb,x = 'runtime',y = 'popularity')\n",
    "plt.title('Popularity vs Runtime') #title\n",
    "plt.xlabel('Runtime') #x label\n",
    "plt.ylabel('Popularity') #y label\n",
    "plt.show()"
   ]
  },
  {
   "cell_type": "markdown",
   "id": "7a823a10",
   "metadata": {},
   "source": [
    "We see a concentration of movies with runtime between 0 and 200 fall within a popularity band of 0 and 5. Based on this plot, we see movies with longer runtimes have popularies between 0 and 1. However, because these are very few of the movies, runtime may not be a good determinant for popularity."
   ]
  },
  {
   "cell_type": "markdown",
   "id": "4537776a",
   "metadata": {},
   "source": [
    "### Question 6: Are rating and revenue related?"
   ]
  },
  {
   "cell_type": "code",
   "execution_count": 36,
   "id": "74fcb13e",
   "metadata": {},
   "outputs": [
    {
     "data": {
      "image/png": "[encoded data removed]",
      "text/plain": [
       "<Figure size 864x720 with 1 Axes>"
      ]
     },
     "metadata": {
      "needs_background": "light"
     },
     "output_type": "display_data"
    }
   ],
   "source": [
    "plt.figure(figsize = (12,10))\n",
    "sns.scatterplot(data = df_movies_tmdb,x = 'revenue_adj',y = 'vote_average')\n",
    "plt.title('Rating vs Revenue') #title\n",
    "plt.xlabel('Revenue') #x label\n",
    "plt.ylabel('Rating') #y label\n",
    "plt.show()"
   ]
  },
  {
   "cell_type": "markdown",
   "id": "3df065af",
   "metadata": {},
   "source": [
    "From the plot, we see that high grossing movies generally have good ratings."
   ]
  },
  {
   "cell_type": "code",
   "execution_count": 37,
   "id": "089f4f4a",
   "metadata": {},
   "outputs": [
    {
     "data": {
      "image/png": "[encoded data removed]",
      "text/plain": [
       "<Figure size 864x720 with 1 Axes>"
      ]
     },
     "metadata": {
      "needs_background": "light"
     },
     "output_type": "display_data"
    }
   ],
   "source": [
    "plt.figure(figsize = (12,10))\n",
    "sns.scatterplot(data = df_movies_tmdb,x = 'revenue_adj',y = 'popularity')\n",
    "plt.title('Rating vs Popularity') #title\n",
    "plt.xlabel('Revenue') #x label\n",
    "plt.ylabel('Popularity') #y label\n",
    "plt.show()"
   ]
  },
  {
   "cell_type": "markdown",
   "id": "ef898baf",
   "metadata": {},
   "source": [
    "### Question 7: Which directors are associated with high revenue movies?"
   ]
  },
  {
   "cell_type": "code",
   "execution_count": 38,
   "id": "c4b45e2f",
   "metadata": {},
   "outputs": [],
   "source": [
    "#splittung columns with multiple directors\n",
    "df_director = df_movies_tmdb.copy()\n",
    "\n",
    "df_director = cols_split('d', df_director, 'director', 'movie_director')"
   ]
  },
  {
   "cell_type": "code",
   "execution_count": 39,
   "id": "20c90920",
   "metadata": {},
   "outputs": [
    {
     "data": {
      "text/html": [
       "<div>\n",
       "<style scoped>\n",
       "    .dataframe tbody tr th:only-of-type {\n",
       "        vertical-align: middle;\n",
       "    }\n",
       "\n",
       "    .dataframe tbody tr th {\n",
       "        vertical-align: top;\n",
       "    }\n",
       "\n",
       "    .dataframe thead th {\n",
       "        text-align: right;\n",
       "    }\n",
       "</style>\n",
       "<table border=\"1\" class=\"dataframe\">\n",
       "  <thead>\n",
       "    <tr style=\"text-align: right;\">\n",
       "      <th></th>\n",
       "      <th>id</th>\n",
       "      <th>popularity</th>\n",
       "      <th>original_title</th>\n",
       "      <th>cast</th>\n",
       "      <th>runtime</th>\n",
       "      <th>genres</th>\n",
       "      <th>production_companies</th>\n",
       "      <th>vote_count</th>\n",
       "      <th>vote_average</th>\n",
       "      <th>release_year</th>\n",
       "      <th>budget_adj</th>\n",
       "      <th>revenue_adj</th>\n",
       "      <th>movie_director</th>\n",
       "    </tr>\n",
       "  </thead>\n",
       "  <tbody>\n",
       "    <tr>\n",
       "      <th>0</th>\n",
       "      <td>135397</td>\n",
       "      <td>32.985763</td>\n",
       "      <td>Jurassic World</td>\n",
       "      <td>Chris Pratt|Bryce Dallas Howard|Irrfan Khan|Vi...</td>\n",
       "      <td>124.0</td>\n",
       "      <td>Action|Adventure|Science Fiction|Thriller</td>\n",
       "      <td>Universal Studios|Amblin Entertainment|Legenda...</td>\n",
       "      <td>5562</td>\n",
       "      <td>6.5</td>\n",
       "      <td>2015</td>\n",
       "      <td>1.379999e+08</td>\n",
       "      <td>1.392446e+09</td>\n",
       "      <td>Colin Trevorrow</td>\n",
       "    </tr>\n",
       "    <tr>\n",
       "      <th>1</th>\n",
       "      <td>76341</td>\n",
       "      <td>28.419936</td>\n",
       "      <td>Mad Max: Fury Road</td>\n",
       "      <td>Tom Hardy|Charlize Theron|Hugh Keays-Byrne|Nic...</td>\n",
       "      <td>120.0</td>\n",
       "      <td>Action|Adventure|Science Fiction|Thriller</td>\n",
       "      <td>Village Roadshow Pictures|Kennedy Miller Produ...</td>\n",
       "      <td>6185</td>\n",
       "      <td>7.1</td>\n",
       "      <td>2015</td>\n",
       "      <td>1.379999e+08</td>\n",
       "      <td>3.481613e+08</td>\n",
       "      <td>George Miller</td>\n",
       "    </tr>\n",
       "    <tr>\n",
       "      <th>2</th>\n",
       "      <td>262500</td>\n",
       "      <td>13.112507</td>\n",
       "      <td>Insurgent</td>\n",
       "      <td>Shailene Woodley|Theo James|Kate Winslet|Ansel...</td>\n",
       "      <td>119.0</td>\n",
       "      <td>Adventure|Science Fiction|Thriller</td>\n",
       "      <td>Summit Entertainment|Mandeville Films|Red Wago...</td>\n",
       "      <td>2480</td>\n",
       "      <td>6.3</td>\n",
       "      <td>2015</td>\n",
       "      <td>1.012000e+08</td>\n",
       "      <td>2.716190e+08</td>\n",
       "      <td>Robert Schwentke</td>\n",
       "    </tr>\n",
       "    <tr>\n",
       "      <th>3</th>\n",
       "      <td>140607</td>\n",
       "      <td>11.173104</td>\n",
       "      <td>Star Wars: The Force Awakens</td>\n",
       "      <td>Harrison Ford|Mark Hamill|Carrie Fisher|Adam D...</td>\n",
       "      <td>136.0</td>\n",
       "      <td>Action|Adventure|Science Fiction|Fantasy</td>\n",
       "      <td>Lucasfilm|Truenorth Productions|Bad Robot</td>\n",
       "      <td>5292</td>\n",
       "      <td>7.5</td>\n",
       "      <td>2015</td>\n",
       "      <td>1.839999e+08</td>\n",
       "      <td>1.902723e+09</td>\n",
       "      <td>J.J. Abrams</td>\n",
       "    </tr>\n",
       "    <tr>\n",
       "      <th>4</th>\n",
       "      <td>168259</td>\n",
       "      <td>9.335014</td>\n",
       "      <td>Furious 7</td>\n",
       "      <td>Vin Diesel|Paul Walker|Jason Statham|Michelle ...</td>\n",
       "      <td>137.0</td>\n",
       "      <td>Action|Crime|Thriller</td>\n",
       "      <td>Universal Pictures|Original Film|Media Rights ...</td>\n",
       "      <td>2947</td>\n",
       "      <td>7.3</td>\n",
       "      <td>2015</td>\n",
       "      <td>1.747999e+08</td>\n",
       "      <td>1.385749e+09</td>\n",
       "      <td>James Wan</td>\n",
       "    </tr>\n",
       "  </tbody>\n",
       "</table>\n",
       "</div>"
      ],
      "text/plain": [
       "       id  popularity                original_title  \\\n",
       "0  135397   32.985763                Jurassic World   \n",
       "1   76341   28.419936            Mad Max: Fury Road   \n",
       "2  262500   13.112507                     Insurgent   \n",
       "3  140607   11.173104  Star Wars: The Force Awakens   \n",
       "4  168259    9.335014                     Furious 7   \n",
       "\n",
       "                                                cast  runtime  \\\n",
       "0  Chris Pratt|Bryce Dallas Howard|Irrfan Khan|Vi...    124.0   \n",
       "1  Tom Hardy|Charlize Theron|Hugh Keays-Byrne|Nic...    120.0   \n",
       "2  Shailene Woodley|Theo James|Kate Winslet|Ansel...    119.0   \n",
       "3  Harrison Ford|Mark Hamill|Carrie Fisher|Adam D...    136.0   \n",
       "4  Vin Diesel|Paul Walker|Jason Statham|Michelle ...    137.0   \n",
       "\n",
       "                                      genres  \\\n",
       "0  Action|Adventure|Science Fiction|Thriller   \n",
       "1  Action|Adventure|Science Fiction|Thriller   \n",
       "2         Adventure|Science Fiction|Thriller   \n",
       "3   Action|Adventure|Science Fiction|Fantasy   \n",
       "4                      Action|Crime|Thriller   \n",
       "\n",
       "                                production_companies  vote_count  \\\n",
       "0  Universal Studios|Amblin Entertainment|Legenda...        5562   \n",
       "1  Village Roadshow Pictures|Kennedy Miller Produ...        6185   \n",
       "2  Summit Entertainment|Mandeville Films|Red Wago...        2480   \n",
       "3          Lucasfilm|Truenorth Productions|Bad Robot        5292   \n",
       "4  Universal Pictures|Original Film|Media Rights ...        2947   \n",
       "\n",
       "   vote_average  release_year    budget_adj   revenue_adj    movie_director  \n",
       "0           6.5          2015  1.379999e+08  1.392446e+09   Colin Trevorrow  \n",
       "1           7.1          2015  1.379999e+08  3.481613e+08     George Miller  \n",
       "2           6.3          2015  1.012000e+08  2.716190e+08  Robert Schwentke  \n",
       "3           7.5          2015  1.839999e+08  1.902723e+09       J.J. Abrams  \n",
       "4           7.3          2015  1.747999e+08  1.385749e+09         James Wan  "
      ]
     },
     "execution_count": 39,
     "metadata": {},
     "output_type": "execute_result"
    }
   ],
   "source": [
    "df_director.shape #to verify that there is only one director per movie\n",
    "df_director.head()"
   ]
  },
  {
   "cell_type": "code",
   "execution_count": 40,
   "id": "cbebac82",
   "metadata": {},
   "outputs": [
    {
     "name": "stdout",
     "output_type": "stream",
     "text": [
      "      movie_director  Average_Revenue\n",
      "0     Clyde Geronimi       1574814739\n",
      "1     Hamilton Luske       1574814739\n",
      "2       George Lucas       1052319860\n",
      "3        David Yates       1044363814\n",
      "4        Joss Whedon        926407996\n",
      "5        Lee Unkrich        854017658\n",
      "6      Pierre Coffin        838790501\n",
      "7      James Cameron        756196731\n",
      "8       Bob Peterson        743337082\n",
      "9      Conrad Vernon        719684876\n",
      "10  Robert Stromberg        698565011\n",
      "11   Colin Trevorrow        698126135\n",
      "12      Chris Miller        689121487\n",
      "13       J.J. Abrams        682935397\n",
      "14      Jennifer Lee        655042359\n",
      "15      Jennifer Yuh        645320794\n",
      "16    John Stevenson        639822446\n",
      "17   David Silverman        623701641\n",
      "18       Pete Docter        584805854\n",
      "19       Shane Black        577658744\n"
     ]
    }
   ],
   "source": [
    "df_director = df_director.groupby('movie_director')['revenue_adj'].mean().reset_index(name = 'Average_Revenue')\n",
    "df_director.sort_values('Average_Revenue', ascending = False, ignore_index = True, inplace = True)\n",
    "df_director['Average_Revenue'] = df_director['Average_Revenue'].astype(int)\n",
    "print(df_director.head(20))"
   ]
  },
  {
   "cell_type": "markdown",
   "id": "62a9a68c",
   "metadata": {},
   "source": [
    "Clyde Geronimi and Hamilton Luske have directed movies with the highest revenue."
   ]
  },
  {
   "cell_type": "markdown",
   "id": "9c22aa79",
   "metadata": {},
   "source": [
    "### Question 8: Is rating/popularity affected by vote count?"
   ]
  },
  {
   "cell_type": "code",
   "execution_count": 41,
   "id": "1f0100e9",
   "metadata": {},
   "outputs": [
    {
     "data": {
      "image/png": "[encoded data removed]",
      "text/plain": [
       "<Figure size 864x720 with 1 Axes>"
      ]
     },
     "metadata": {
      "needs_background": "light"
     },
     "output_type": "display_data"
    }
   ],
   "source": [
    "plt.figure(figsize = (12,10))\n",
    "sns.scatterplot(data = df_movies_tmdb,x = 'vote_count',y = 'popularity')\n",
    "plt.title('Popularity vs Vote count') #title\n",
    "plt.xlabel('Vote Count') #x label\n",
    "plt.ylabel('Popularity') #y label\n",
    "plt.show()"
   ]
  },
  {
   "cell_type": "code",
   "execution_count": 42,
   "id": "3e188684",
   "metadata": {
    "scrolled": true
   },
   "outputs": [
    {
     "data": {
      "image/png": "[encoded data removed]",
      "text/plain": [
       "<Figure size 864x720 with 1 Axes>"
      ]
     },
     "metadata": {
      "needs_background": "light"
     },
     "output_type": "display_data"
    }
   ],
   "source": [
    "plt.figure(figsize = (12,10))\n",
    "sns.scatterplot(data = df_movies_tmdb,x = 'vote_count',y = 'vote_average')\n",
    "plt.title('Rating vs Vote count') #title\n",
    "plt.xlabel('Vote Count') #x label\n",
    "plt.ylabel('Rating') #y label\n",
    "plt.show()"
   ]
  },
  {
   "cell_type": "markdown",
   "id": "a41f5283",
   "metadata": {},
   "source": [
    "Higher counts of votes also have higher ratings. Popularity is not really affected by vote count."
   ]
  },
  {
   "cell_type": "markdown",
   "id": "d448bc67",
   "metadata": {},
   "source": [
    "### Question 9: How many movies were profitable?"
   ]
  },
  {
   "cell_type": "code",
   "execution_count": 43,
   "id": "b9f52194",
   "metadata": {},
   "outputs": [
    {
     "data": {
      "text/plain": [
       "8007"
      ]
     },
     "execution_count": 43,
     "metadata": {},
     "output_type": "execute_result"
    }
   ],
   "source": [
    "df_movies_profitable = len(df_movies_tmdb.query('revenue_adj > budget_adj'))\n",
    "df_movies_profitable"
   ]
  },
  {
   "cell_type": "markdown",
   "id": "efa8b8d5",
   "metadata": {},
   "source": [
    "8007 movies were profitable of the 9772 movies"
   ]
  },
  {
   "cell_type": "markdown",
   "id": "4c7f510e",
   "metadata": {},
   "source": [
    "### Question 10: Profitability over the years"
   ]
  },
  {
   "cell_type": "code",
   "execution_count": 44,
   "id": "dc76e73c",
   "metadata": {},
   "outputs": [
    {
     "data": {
      "image/png": "[encoded data removed]",
      "text/plain": [
       "<Figure size 720x720 with 1 Axes>"
      ]
     },
     "metadata": {},
     "output_type": "display_data"
    }
   ],
   "source": [
    "df_movies_tmdb['profit'] = df_movies_tmdb['revenue_adj'] - df_movies_tmdb['budget_adj']\n",
    "df_movies_tmdb['profit'] = df_movies_tmdb['profit'].astype(int)\n",
    "profit_by_year = df_movies_tmdb.groupby('release_year')['profit'].mean()\n",
    "#df_movies_tmdb.plot(y = 'profit', x = 'release_year', kind = 'line')\n",
    "\n",
    "sns.set_style('darkgrid')\n",
    "x = profit_by_year.index\n",
    "y = profit_by_year\n",
    "plt.figure(figsize=(10,10))\n",
    "plt.plot(x, y, color='red')\n",
    "plt.title('Profit Over Years')\n",
    "plt.xlabel('Year')\n",
    "plt.ylabel('Profit')\n",
    "plt.show();"
   ]
  },
  {
   "cell_type": "markdown",
   "id": "6aa7d36d",
   "metadata": {},
   "source": [
    "Movie profitability was higher in the earlier years but has declined in later years"
   ]
  },
  {
   "cell_type": "markdown",
   "id": "151a174a",
   "metadata": {},
   "source": [
    "### Question 11: Popularity over the years"
   ]
  },
  {
   "cell_type": "code",
   "execution_count": 45,
   "id": "4c822cef",
   "metadata": {},
   "outputs": [
    {
     "data": {
      "image/png": "[encoded data removed]",
      "text/plain": [
       "<Figure size 720x720 with 1 Axes>"
      ]
     },
     "metadata": {},
     "output_type": "display_data"
    }
   ],
   "source": [
    "popularity_by_year = df_movies_tmdb.groupby('release_year')['popularity'].mean()\n",
    "#df_movies_tmdb.plot(y = 'profit', x = 'release_year', kind = 'line')\n",
    "\n",
    "sns.set_style('darkgrid')\n",
    "x = popularity_by_year.index\n",
    "y = popularity_by_year\n",
    "plt.figure(figsize=(10,10))\n",
    "plt.plot(x, y, color='blue')\n",
    "plt.title('Popularity Over Years')\n",
    "plt.xlabel('Year')\n",
    "plt.ylabel('Popularity')\n",
    "plt.show();"
   ]
  },
  {
   "cell_type": "markdown",
   "id": "df6d5761",
   "metadata": {},
   "source": [
    "Popularity has seen a rise over the years."
   ]
  },
  {
   "cell_type": "markdown",
   "id": "383763d2",
   "metadata": {},
   "source": [
    "#### Conclusions\n",
    "\n",
    "1. Pink Floyd:Pulse is the movie with the highest rating while Jurassic world is the most popular movie.\n",
    "2. The highest revenue generating movie genre is adventure. Fantasy, animation, science fiction and action are other genres generating higher revenue.\n",
    "3. Daniel Radcliffe, Orlando Bloom, Rupert Grint and Emma Watson are actors/actresses who have acted in over five high revenue generating movies.\n",
    "4. Robert De Niro,Samuel L. Jackson, Bruce Wills, Nicolas Cage, Michael Caine and Robin Williams are some of the actors who have been cast in over 50 movies.\n",
    "5. Movies with more runtime and more revenue generally have good ratings.\n",
    "6. Clyde Geronimi and Hamilton Luske have directed movies with the highest revenue.\n",
    "7. 8007 of 9772 movies were profitable\n",
    "8. Popularity and the number of movies made every year have continuously increased over the years.\n",
    "\n",
    "\n",
    "Limitations\n",
    "\n",
    "1. 1094 out 0f 10866 rows had to be dropped for the analysis.\n",
    "2. Revenue and budget are assumed to be in dollars.\n",
    "3. I had to work with the revenue_adj and budget_adj columns"
   ]
  }
 ],
 "metadata": {
  "kernelspec": {
   "display_name": "Python 3 (ipykernel)",
   "language": "python",
   "name": "python3"
  },
  "language_info": {
   "codemirror_mode": {
    "name": "ipython",
    "version": 3
   },
   "file_extension": ".py",
   "mimetype": "text/x-python",
   "name": "python",
   "nbconvert_exporter": "python",
   "pygments_lexer": "ipython3",
   "version": "3.9.7"
  }
 },
 "nbformat": 4,
 "nbformat_minor": 5
}
